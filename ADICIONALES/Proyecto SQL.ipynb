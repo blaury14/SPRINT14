{
 "cells": [
  {
   "cell_type": "markdown",
   "id": "b55251a6",
   "metadata": {},
   "source": [
    "# Proyecto SQL\n",
    "\n",
    "**Análisis de Datos de Servicio de Libros**\n",
    "\n",
    "#### Introduccion\n",
    "Este `proyecto SQL` tiene como objetivo analizar una base de datos de un servicio de libros para generar propuestas de valor para un nuevo producto. Con la creciente popularidad de la lectura durante la pandemia de `COVID-19`, las startups han desarrollado aplicaciones para los amantes de los libros. `En este proyecto, analizaremos datos sobre libros, editoriales, autores, calificaciones de clientes y reseñas de libros.`\n",
    "\n",
    "#### Descomposición de Tareas\n",
    "1. **Carga y Exploración de Datos**\n",
    "   - Cargar los datos de la base de datos.\n",
    "   - Imprimir las primeras filas de cada tabla.\n",
    "   - Verificar y convertir los tipos de datos necesarios.\n",
    "   - Identificar y manejar valores ausentes y duplicados.\n",
    "\n",
    "2. **Consultas SQL**\n",
    "   - Encontrar el número de libros publicados después del 1 de enero de 2000.\n",
    "   - Encontrar el número de reseñas de usuarios y la calificación promedio para cada libro.\n",
    "   - Identificar la editorial que ha publicado el mayor número de libros con más de 50 páginas.\n",
    "   - Identificar al autor que tiene la más alta calificación promedio del libro, considerando solo los libros con al menos 50 calificaciones.\n",
    "   - Encontrar el número promedio de reseñas de texto entre los usuarios que calificaron más de 50 libros.\n",
    "\n",
    "3. **Análisis y Conclusiones**\n",
    "   - Analizar los resultados obtenidos de las consultas.\n",
    "   - Describir conclusiones y recomendaciones basadas en los datos analizados.\n",
    "\n",
    " \n",
    "## Descripción de los datos y conexión a la base de datos"
   ]
  },
  {
   "cell_type": "code",
   "execution_count": 1,
   "id": "ba07ff06",
   "metadata": {},
   "outputs": [
    {
     "name": "stdout",
     "output_type": "stream",
     "text": [
      "Books Table:\n"
     ]
    },
    {
     "data": {
      "text/html": [
       "<div>\n",
       "<style scoped>\n",
       "    .dataframe tbody tr th:only-of-type {\n",
       "        vertical-align: middle;\n",
       "    }\n",
       "\n",
       "    .dataframe tbody tr th {\n",
       "        vertical-align: top;\n",
       "    }\n",
       "\n",
       "    .dataframe thead th {\n",
       "        text-align: right;\n",
       "    }\n",
       "</style>\n",
       "<table border=\"1\" class=\"dataframe\">\n",
       "  <thead>\n",
       "    <tr style=\"text-align: right;\">\n",
       "      <th></th>\n",
       "      <th>book_id</th>\n",
       "      <th>author_id</th>\n",
       "      <th>title</th>\n",
       "      <th>num_pages</th>\n",
       "      <th>publication_date</th>\n",
       "      <th>publisher_id</th>\n",
       "    </tr>\n",
       "  </thead>\n",
       "  <tbody>\n",
       "    <tr>\n",
       "      <th>0</th>\n",
       "      <td>1</td>\n",
       "      <td>546</td>\n",
       "      <td>'Salem's Lot</td>\n",
       "      <td>594</td>\n",
       "      <td>2005-11-01</td>\n",
       "      <td>93</td>\n",
       "    </tr>\n",
       "    <tr>\n",
       "      <th>1</th>\n",
       "      <td>2</td>\n",
       "      <td>465</td>\n",
       "      <td>1 000 Places to See Before You Die</td>\n",
       "      <td>992</td>\n",
       "      <td>2003-05-22</td>\n",
       "      <td>336</td>\n",
       "    </tr>\n",
       "    <tr>\n",
       "      <th>2</th>\n",
       "      <td>3</td>\n",
       "      <td>407</td>\n",
       "      <td>13 Little Blue Envelopes (Little Blue Envelope...</td>\n",
       "      <td>322</td>\n",
       "      <td>2010-12-21</td>\n",
       "      <td>135</td>\n",
       "    </tr>\n",
       "    <tr>\n",
       "      <th>3</th>\n",
       "      <td>4</td>\n",
       "      <td>82</td>\n",
       "      <td>1491: New Revelations of the Americas Before C...</td>\n",
       "      <td>541</td>\n",
       "      <td>2006-10-10</td>\n",
       "      <td>309</td>\n",
       "    </tr>\n",
       "    <tr>\n",
       "      <th>4</th>\n",
       "      <td>5</td>\n",
       "      <td>125</td>\n",
       "      <td>1776</td>\n",
       "      <td>386</td>\n",
       "      <td>2006-07-04</td>\n",
       "      <td>268</td>\n",
       "    </tr>\n",
       "  </tbody>\n",
       "</table>\n",
       "</div>"
      ],
      "text/plain": [
       "   book_id  author_id                                              title  \\\n",
       "0        1        546                                       'Salem's Lot   \n",
       "1        2        465                 1 000 Places to See Before You Die   \n",
       "2        3        407  13 Little Blue Envelopes (Little Blue Envelope...   \n",
       "3        4         82  1491: New Revelations of the Americas Before C...   \n",
       "4        5        125                                               1776   \n",
       "\n",
       "   num_pages publication_date  publisher_id  \n",
       "0        594       2005-11-01            93  \n",
       "1        992       2003-05-22           336  \n",
       "2        322       2010-12-21           135  \n",
       "3        541       2006-10-10           309  \n",
       "4        386       2006-07-04           268  "
      ]
     },
     "metadata": {},
     "output_type": "display_data"
    },
    {
     "name": "stdout",
     "output_type": "stream",
     "text": [
      "Authors Table:\n"
     ]
    },
    {
     "data": {
      "text/html": [
       "<div>\n",
       "<style scoped>\n",
       "    .dataframe tbody tr th:only-of-type {\n",
       "        vertical-align: middle;\n",
       "    }\n",
       "\n",
       "    .dataframe tbody tr th {\n",
       "        vertical-align: top;\n",
       "    }\n",
       "\n",
       "    .dataframe thead th {\n",
       "        text-align: right;\n",
       "    }\n",
       "</style>\n",
       "<table border=\"1\" class=\"dataframe\">\n",
       "  <thead>\n",
       "    <tr style=\"text-align: right;\">\n",
       "      <th></th>\n",
       "      <th>author_id</th>\n",
       "      <th>author</th>\n",
       "    </tr>\n",
       "  </thead>\n",
       "  <tbody>\n",
       "    <tr>\n",
       "      <th>0</th>\n",
       "      <td>1</td>\n",
       "      <td>A.S. Byatt</td>\n",
       "    </tr>\n",
       "    <tr>\n",
       "      <th>1</th>\n",
       "      <td>2</td>\n",
       "      <td>Aesop/Laura Harris/Laura Gibbs</td>\n",
       "    </tr>\n",
       "    <tr>\n",
       "      <th>2</th>\n",
       "      <td>3</td>\n",
       "      <td>Agatha Christie</td>\n",
       "    </tr>\n",
       "    <tr>\n",
       "      <th>3</th>\n",
       "      <td>4</td>\n",
       "      <td>Alan Brennert</td>\n",
       "    </tr>\n",
       "    <tr>\n",
       "      <th>4</th>\n",
       "      <td>5</td>\n",
       "      <td>Alan Moore/David   Lloyd</td>\n",
       "    </tr>\n",
       "  </tbody>\n",
       "</table>\n",
       "</div>"
      ],
      "text/plain": [
       "   author_id                          author\n",
       "0          1                      A.S. Byatt\n",
       "1          2  Aesop/Laura Harris/Laura Gibbs\n",
       "2          3                 Agatha Christie\n",
       "3          4                   Alan Brennert\n",
       "4          5        Alan Moore/David   Lloyd"
      ]
     },
     "metadata": {},
     "output_type": "display_data"
    },
    {
     "name": "stdout",
     "output_type": "stream",
     "text": [
      "Publishers Table:\n"
     ]
    },
    {
     "data": {
      "text/html": [
       "<div>\n",
       "<style scoped>\n",
       "    .dataframe tbody tr th:only-of-type {\n",
       "        vertical-align: middle;\n",
       "    }\n",
       "\n",
       "    .dataframe tbody tr th {\n",
       "        vertical-align: top;\n",
       "    }\n",
       "\n",
       "    .dataframe thead th {\n",
       "        text-align: right;\n",
       "    }\n",
       "</style>\n",
       "<table border=\"1\" class=\"dataframe\">\n",
       "  <thead>\n",
       "    <tr style=\"text-align: right;\">\n",
       "      <th></th>\n",
       "      <th>publisher_id</th>\n",
       "      <th>publisher</th>\n",
       "    </tr>\n",
       "  </thead>\n",
       "  <tbody>\n",
       "    <tr>\n",
       "      <th>0</th>\n",
       "      <td>1</td>\n",
       "      <td>Ace</td>\n",
       "    </tr>\n",
       "    <tr>\n",
       "      <th>1</th>\n",
       "      <td>2</td>\n",
       "      <td>Ace Book</td>\n",
       "    </tr>\n",
       "    <tr>\n",
       "      <th>2</th>\n",
       "      <td>3</td>\n",
       "      <td>Ace Books</td>\n",
       "    </tr>\n",
       "    <tr>\n",
       "      <th>3</th>\n",
       "      <td>4</td>\n",
       "      <td>Ace Hardcover</td>\n",
       "    </tr>\n",
       "    <tr>\n",
       "      <th>4</th>\n",
       "      <td>5</td>\n",
       "      <td>Addison Wesley Publishing Company</td>\n",
       "    </tr>\n",
       "  </tbody>\n",
       "</table>\n",
       "</div>"
      ],
      "text/plain": [
       "   publisher_id                          publisher\n",
       "0             1                                Ace\n",
       "1             2                           Ace Book\n",
       "2             3                          Ace Books\n",
       "3             4                      Ace Hardcover\n",
       "4             5  Addison Wesley Publishing Company"
      ]
     },
     "metadata": {},
     "output_type": "display_data"
    },
    {
     "name": "stdout",
     "output_type": "stream",
     "text": [
      "Ratings Table:\n"
     ]
    },
    {
     "data": {
      "text/html": [
       "<div>\n",
       "<style scoped>\n",
       "    .dataframe tbody tr th:only-of-type {\n",
       "        vertical-align: middle;\n",
       "    }\n",
       "\n",
       "    .dataframe tbody tr th {\n",
       "        vertical-align: top;\n",
       "    }\n",
       "\n",
       "    .dataframe thead th {\n",
       "        text-align: right;\n",
       "    }\n",
       "</style>\n",
       "<table border=\"1\" class=\"dataframe\">\n",
       "  <thead>\n",
       "    <tr style=\"text-align: right;\">\n",
       "      <th></th>\n",
       "      <th>rating_id</th>\n",
       "      <th>book_id</th>\n",
       "      <th>username</th>\n",
       "      <th>rating</th>\n",
       "    </tr>\n",
       "  </thead>\n",
       "  <tbody>\n",
       "    <tr>\n",
       "      <th>0</th>\n",
       "      <td>1</td>\n",
       "      <td>1</td>\n",
       "      <td>ryanfranco</td>\n",
       "      <td>4</td>\n",
       "    </tr>\n",
       "    <tr>\n",
       "      <th>1</th>\n",
       "      <td>2</td>\n",
       "      <td>1</td>\n",
       "      <td>grantpatricia</td>\n",
       "      <td>2</td>\n",
       "    </tr>\n",
       "    <tr>\n",
       "      <th>2</th>\n",
       "      <td>3</td>\n",
       "      <td>1</td>\n",
       "      <td>brandtandrea</td>\n",
       "      <td>5</td>\n",
       "    </tr>\n",
       "    <tr>\n",
       "      <th>3</th>\n",
       "      <td>4</td>\n",
       "      <td>2</td>\n",
       "      <td>lorichen</td>\n",
       "      <td>3</td>\n",
       "    </tr>\n",
       "    <tr>\n",
       "      <th>4</th>\n",
       "      <td>5</td>\n",
       "      <td>2</td>\n",
       "      <td>mariokeller</td>\n",
       "      <td>2</td>\n",
       "    </tr>\n",
       "  </tbody>\n",
       "</table>\n",
       "</div>"
      ],
      "text/plain": [
       "   rating_id  book_id       username  rating\n",
       "0          1        1     ryanfranco       4\n",
       "1          2        1  grantpatricia       2\n",
       "2          3        1   brandtandrea       5\n",
       "3          4        2       lorichen       3\n",
       "4          5        2    mariokeller       2"
      ]
     },
     "metadata": {},
     "output_type": "display_data"
    },
    {
     "name": "stdout",
     "output_type": "stream",
     "text": [
      "Reviews Table:\n"
     ]
    },
    {
     "data": {
      "text/html": [
       "<div>\n",
       "<style scoped>\n",
       "    .dataframe tbody tr th:only-of-type {\n",
       "        vertical-align: middle;\n",
       "    }\n",
       "\n",
       "    .dataframe tbody tr th {\n",
       "        vertical-align: top;\n",
       "    }\n",
       "\n",
       "    .dataframe thead th {\n",
       "        text-align: right;\n",
       "    }\n",
       "</style>\n",
       "<table border=\"1\" class=\"dataframe\">\n",
       "  <thead>\n",
       "    <tr style=\"text-align: right;\">\n",
       "      <th></th>\n",
       "      <th>review_id</th>\n",
       "      <th>book_id</th>\n",
       "      <th>username</th>\n",
       "      <th>text</th>\n",
       "    </tr>\n",
       "  </thead>\n",
       "  <tbody>\n",
       "    <tr>\n",
       "      <th>0</th>\n",
       "      <td>1</td>\n",
       "      <td>1</td>\n",
       "      <td>brandtandrea</td>\n",
       "      <td>Mention society tell send professor analysis. ...</td>\n",
       "    </tr>\n",
       "    <tr>\n",
       "      <th>1</th>\n",
       "      <td>2</td>\n",
       "      <td>1</td>\n",
       "      <td>ryanfranco</td>\n",
       "      <td>Foot glass pretty audience hit themselves. Amo...</td>\n",
       "    </tr>\n",
       "    <tr>\n",
       "      <th>2</th>\n",
       "      <td>3</td>\n",
       "      <td>2</td>\n",
       "      <td>lorichen</td>\n",
       "      <td>Listen treat keep worry. Miss husband tax but ...</td>\n",
       "    </tr>\n",
       "    <tr>\n",
       "      <th>3</th>\n",
       "      <td>4</td>\n",
       "      <td>3</td>\n",
       "      <td>johnsonamanda</td>\n",
       "      <td>Finally month interesting blue could nature cu...</td>\n",
       "    </tr>\n",
       "    <tr>\n",
       "      <th>4</th>\n",
       "      <td>5</td>\n",
       "      <td>3</td>\n",
       "      <td>scotttamara</td>\n",
       "      <td>Nation purpose heavy give wait song will. List...</td>\n",
       "    </tr>\n",
       "  </tbody>\n",
       "</table>\n",
       "</div>"
      ],
      "text/plain": [
       "   review_id  book_id       username  \\\n",
       "0          1        1   brandtandrea   \n",
       "1          2        1     ryanfranco   \n",
       "2          3        2       lorichen   \n",
       "3          4        3  johnsonamanda   \n",
       "4          5        3    scotttamara   \n",
       "\n",
       "                                                text  \n",
       "0  Mention society tell send professor analysis. ...  \n",
       "1  Foot glass pretty audience hit themselves. Amo...  \n",
       "2  Listen treat keep worry. Miss husband tax but ...  \n",
       "3  Finally month interesting blue could nature cu...  \n",
       "4  Nation purpose heavy give wait song will. List...  "
      ]
     },
     "metadata": {},
     "output_type": "display_data"
    },
    {
     "name": "stdout",
     "output_type": "stream",
     "text": [
      "book_id                      int64\n",
      "author_id                    int64\n",
      "title                       object\n",
      "num_pages                    int64\n",
      "publication_date    datetime64[ns]\n",
      "publisher_id                 int64\n",
      "dtype: object\n"
     ]
    }
   ],
   "source": [
    "# Cargar bibliotecas\n",
    "import pandas as pd\n",
    "from sqlalchemy import create_engine\n",
    "import seaborn as sns\n",
    "import matplotlib.pyplot as plt\n",
    "\n",
    "# Conexión a la base de datos\n",
    "db_config = {'user': 'practicum_student', 'pwd': 's65BlTKV3faNIGhmvJVzOqhs', 'host': 'rc1b-wcoijxj3yxfsf3fs.mdb.yandexcloud.net', 'port': 6432, 'db': 'data-analyst-final-project-db'}\n",
    "connection_string = 'postgresql://{}:{}@{}:{}/{}'.format(db_config['user'], db_config['pwd'], db_config['host'], db_config['port'], db_config['db'])\n",
    "engine = create_engine(connection_string, connect_args={'sslmode':'require'})\n",
    "\n",
    "# Cargar y mostrar las primeras filas de cada tabla\n",
    "tables = ['books', 'authors', 'publishers', 'ratings', 'reviews']\n",
    "for table in tables:\n",
    "    query = f\"SELECT * FROM {table} LIMIT 5;\"\n",
    "    data = pd.read_sql(query, engine)\n",
    "    print(f\"{table.capitalize()} Table:\")\n",
    "    display(data)\n",
    "    \n",
    "# Verificación de tipos de datos y conversión\n",
    "books = pd.read_sql('SELECT * FROM books', engine)\n",
    "books['publication_date'] = pd.to_datetime(books['publication_date'])\n",
    "print(books.dtypes)"
   ]
  },
  {
   "cell_type": "markdown",
   "id": "9ed79cb2",
   "metadata": {},
   "source": [
    "## Consultas SQL:\n",
    "**Número de libros publicados después del 1 de enero de 2000**"
   ]
  },
  {
   "cell_type": "code",
   "execution_count": 2,
   "id": "d37b3bbc",
   "metadata": {},
   "outputs": [
    {
     "name": "stdout",
     "output_type": "stream",
     "text": [
      "Número de libros publicados después del 1 de enero de 2000:\n",
      "   count\n",
      "0    819\n"
     ]
    }
   ],
   "source": [
    "# Número de libros publicados después del 1 de enero de 2000\n",
    "query_books_after_2000 = \"SELECT COUNT(*) as count FROM books WHERE publication_date > '2000-01-01';\"\n",
    "books_after_2000 = pd.read_sql(query_books_after_2000, engine)\n",
    "print(\"Número de libros publicados después del 1 de enero de 2000:\")\n",
    "print(books_after_2000)"
   ]
  },
  {
   "cell_type": "markdown",
   "id": "40cc3234",
   "metadata": {},
   "source": [
    "   - Se encontraron 819 libros publicados después del 1 de enero de 2000, lo que indica una colección considerable de libros modernos en la base de datos.\n",
    "\n",
    "**Número de reseñas y calificación promedio por libro:**"
   ]
  },
  {
   "cell_type": "code",
   "execution_count": 3,
   "id": "7468f72a",
   "metadata": {},
   "outputs": [
    {
     "name": "stdout",
     "output_type": "stream",
     "text": [
      "Número de reseñas y calificación promedio por libro:\n",
      "                                               title  num_reviews  avg_rating\n",
      "0                            Twilight (Twilight  #1)         1120    3.662500\n",
      "1                The Hobbit  or There and Back Again          528    4.125000\n",
      "2                             The Catcher in the Rye          516    3.825581\n",
      "3  Harry Potter and the Prisoner of Azkaban (Harr...          492    4.414634\n",
      "4  Harry Potter and the Chamber of Secrets (Harry...          480    4.287500\n",
      "5               Angels & Demons (Robert Langdon  #1)          420    3.678571\n",
      "6  Harry Potter and the Order of the Phoenix (Har...          375    4.186667\n",
      "7  The Lightning Thief (Percy Jackson and the Oly...          372    4.080645\n",
      "8  The Fellowship of the Ring (The Lord of the Ri...          370    4.391892\n",
      "9                                        Animal Farm          370    3.729730\n"
     ]
    }
   ],
   "source": [
    "# Número de reseñas y calificación promedio por libro\n",
    "query_reviews_ratings = \"\"\"\n",
    "SELECT \n",
    "    books.title, \n",
    "    COUNT(reviews.review_id) AS num_reviews, \n",
    "    AVG(ratings.rating) AS avg_rating\n",
    "FROM books\n",
    "LEFT JOIN reviews ON books.book_id = reviews.book_id\n",
    "LEFT JOIN ratings ON books.book_id = ratings.book_id\n",
    "GROUP BY books.title\n",
    "ORDER BY num_reviews DESC\n",
    "LIMIT 10;\n",
    "\"\"\"\n",
    "reviews_ratings = pd.read_sql(query_reviews_ratings, engine)\n",
    "print(\"Número de reseñas y calificación promedio por libro:\")\n",
    "print(reviews_ratings)"
   ]
  },
  {
   "cell_type": "code",
   "execution_count": 8,
   "id": "310ba485",
   "metadata": {},
   "outputs": [
    {
     "data": {
      "image/png": "[encoded data removed]",
      "text/plain": [
       "<Figure size 1200x600 with 1 Axes>"
      ]
     },
     "metadata": {},
     "output_type": "display_data"
    }
   ],
   "source": [
    "# Datos\n",
    "reviews_ratings = pd.read_sql(query_reviews_ratings, engine)\n",
    "\n",
    "# Gráfico de barras\n",
    "plt.figure(figsize=(12, 6))\n",
    "bar_plot = sns.barplot(x='num_reviews', y='title', data=reviews_ratings, palette='viridis')\n",
    "bar_plot.set_title('Número de reseñas y calificación promedio por libro', fontsize=16)\n",
    "bar_plot.set_xlabel('Número de Reseñas', fontsize=12)\n",
    "bar_plot.set_ylabel('Título del Libro', fontsize=12)\n",
    "\n",
    "# Mostrar calificaciones promedio en las barras\n",
    "for index, value in enumerate(reviews_ratings['avg_rating']):\n",
    "    bar_plot.text(value, index, f'{value:.2f}', color='black', ha=\"right\", va=\"center\")\n",
    "\n",
    "plt.show()"
   ]
  },
  {
   "cell_type": "markdown",
   "id": "72f94fff",
   "metadata": {},
   "source": [
    "   - Los libros como \"Twilight\" y \"The Hobbit\" destacan por tener un alto número de reseñas y calificaciones promedio altas, lo que refleja su popularidad y aceptación entre los usuarios.\n",
    "\n",
    "\n",
    "## Identifica la editorial que ha publicado el mayor número de libros con más de 50 páginas"
   ]
  },
  {
   "cell_type": "code",
   "execution_count": 4,
   "id": "4fd66f7a",
   "metadata": {},
   "outputs": [
    {
     "name": "stdout",
     "output_type": "stream",
     "text": [
      "Editorial con el mayor número de libros con más de 50 páginas:\n",
      "       publisher  num_books\n",
      "0  Penguin Books         42\n"
     ]
    }
   ],
   "source": [
    "# Editorial con el mayor número de libros con más de 50 páginas\n",
    "query_top_publisher = \"\"\"\n",
    "SELECT \n",
    "    publishers.publisher, \n",
    "    COUNT(books.book_id) AS num_books\n",
    "FROM books\n",
    "JOIN publishers ON books.publisher_id = publishers.publisher_id\n",
    "WHERE books.num_pages > 50\n",
    "GROUP BY publishers.publisher\n",
    "ORDER BY num_books DESC\n",
    "LIMIT 1;\n",
    "\"\"\"\n",
    "top_publisher = pd.read_sql(query_top_publisher, engine)\n",
    "print(\"Editorial con el mayor número de libros con más de 50 páginas:\")\n",
    "print(top_publisher)"
   ]
  },
  {
   "cell_type": "markdown",
   "id": "eec150d6",
   "metadata": {},
   "source": [
    "   - Penguin Books es la editorial con el mayor número de publicaciones (42 libros) con más de 50 páginas, destacándose como una editorial prolífica en la colección.\n",
    "\n",
    "\n",
    "## Identifica al autor con la más alta calificación promedio del libro \n",
    "(considerando libros con al menos 50 calificaciones)\n"
   ]
  },
  {
   "cell_type": "code",
   "execution_count": 5,
   "id": "06c2ec34",
   "metadata": {},
   "outputs": [
    {
     "name": "stdout",
     "output_type": "stream",
     "text": [
      "Autor con la más alta calificación promedio (con al menos 50 calificaciones):\n",
      "           author  avg_rating  num_ratings\n",
      "0  Diana Gabaldon         4.3           50\n"
     ]
    }
   ],
   "source": [
    "# Autor con la más alta calificación promedio del libro\n",
    "query_top_author = \"\"\"\n",
    "SELECT \n",
    "    authors.author, \n",
    "    AVG(ratings.rating) AS avg_rating, \n",
    "    COUNT(ratings.rating) AS num_ratings\n",
    "FROM books\n",
    "JOIN authors ON books.author_id = authors.author_id\n",
    "JOIN ratings ON books.book_id = ratings.book_id\n",
    "GROUP BY authors.author\n",
    "HAVING COUNT(ratings.rating) >= 50\n",
    "ORDER BY avg_rating DESC\n",
    "LIMIT 1;\n",
    "\"\"\"\n",
    "top_author = pd.read_sql(query_top_author, engine)\n",
    "print(\"Autor con la más alta calificación promedio (con al menos 50 calificaciones):\")\n",
    "print(top_author)\n"
   ]
  },
  {
   "cell_type": "code",
   "execution_count": 10,
   "id": "5ffdfd84",
   "metadata": {},
   "outputs": [
    {
     "name": "stdout",
     "output_type": "stream",
     "text": [
      "Autores con más alta calificación promedio (con al menos 50 calificaciones):\n"
     ]
    },
    {
     "data": {
      "text/html": [
       "<div>\n",
       "<style scoped>\n",
       "    .dataframe tbody tr th:only-of-type {\n",
       "        vertical-align: middle;\n",
       "    }\n",
       "\n",
       "    .dataframe tbody tr th {\n",
       "        vertical-align: top;\n",
       "    }\n",
       "\n",
       "    .dataframe thead th {\n",
       "        text-align: right;\n",
       "    }\n",
       "</style>\n",
       "<table border=\"1\" class=\"dataframe\">\n",
       "  <thead>\n",
       "    <tr style=\"text-align: right;\">\n",
       "      <th></th>\n",
       "      <th>author</th>\n",
       "      <th>avg_rating</th>\n",
       "      <th>num_ratings</th>\n",
       "    </tr>\n",
       "  </thead>\n",
       "  <tbody>\n",
       "    <tr>\n",
       "      <th>0</th>\n",
       "      <td>Diana Gabaldon</td>\n",
       "      <td>4.300000</td>\n",
       "      <td>50</td>\n",
       "    </tr>\n",
       "    <tr>\n",
       "      <th>1</th>\n",
       "      <td>J.K. Rowling/Mary GrandPré</td>\n",
       "      <td>4.288462</td>\n",
       "      <td>312</td>\n",
       "    </tr>\n",
       "    <tr>\n",
       "      <th>2</th>\n",
       "      <td>Agatha Christie</td>\n",
       "      <td>4.283019</td>\n",
       "      <td>53</td>\n",
       "    </tr>\n",
       "    <tr>\n",
       "      <th>3</th>\n",
       "      <td>Markus Zusak/Cao Xuân Việt Khương</td>\n",
       "      <td>4.264151</td>\n",
       "      <td>53</td>\n",
       "    </tr>\n",
       "    <tr>\n",
       "      <th>4</th>\n",
       "      <td>J.R.R. Tolkien</td>\n",
       "      <td>4.240964</td>\n",
       "      <td>166</td>\n",
       "    </tr>\n",
       "    <tr>\n",
       "      <th>5</th>\n",
       "      <td>Roald Dahl/Quentin Blake</td>\n",
       "      <td>4.209677</td>\n",
       "      <td>62</td>\n",
       "    </tr>\n",
       "    <tr>\n",
       "      <th>6</th>\n",
       "      <td>Louisa May Alcott</td>\n",
       "      <td>4.203704</td>\n",
       "      <td>54</td>\n",
       "    </tr>\n",
       "    <tr>\n",
       "      <th>7</th>\n",
       "      <td>Rick Riordan</td>\n",
       "      <td>4.130952</td>\n",
       "      <td>84</td>\n",
       "    </tr>\n",
       "    <tr>\n",
       "      <th>8</th>\n",
       "      <td>Arthur Golden</td>\n",
       "      <td>4.107143</td>\n",
       "      <td>56</td>\n",
       "    </tr>\n",
       "    <tr>\n",
       "      <th>9</th>\n",
       "      <td>Stephen King</td>\n",
       "      <td>4.009434</td>\n",
       "      <td>106</td>\n",
       "    </tr>\n",
       "  </tbody>\n",
       "</table>\n",
       "</div>"
      ],
      "text/plain": [
       "                              author  avg_rating  num_ratings\n",
       "0                     Diana Gabaldon    4.300000           50\n",
       "1         J.K. Rowling/Mary GrandPré    4.288462          312\n",
       "2                    Agatha Christie    4.283019           53\n",
       "3  Markus Zusak/Cao Xuân Việt Khương    4.264151           53\n",
       "4                     J.R.R. Tolkien    4.240964          166\n",
       "5           Roald Dahl/Quentin Blake    4.209677           62\n",
       "6                  Louisa May Alcott    4.203704           54\n",
       "7                       Rick Riordan    4.130952           84\n",
       "8                      Arthur Golden    4.107143           56\n",
       "9                       Stephen King    4.009434          106"
      ]
     },
     "metadata": {},
     "output_type": "display_data"
    },
    {
     "data": {
      "image/png": "[encoded data removed]",
      "text/plain": [
       "<Figure size 1200x600 with 1 Axes>"
      ]
     },
     "metadata": {},
     "output_type": "display_data"
    }
   ],
   "source": [
    "# Autores con calificaciones promedio y número de calificaciones\n",
    "query_authors_ratings = \"\"\"\n",
    "SELECT \n",
    "    authors.author, \n",
    "    AVG(ratings.rating) AS avg_rating, \n",
    "    COUNT(ratings.rating) AS num_ratings\n",
    "FROM books\n",
    "JOIN authors ON books.author_id = authors.author_id\n",
    "JOIN ratings ON books.book_id = ratings.book_id\n",
    "GROUP BY authors.author\n",
    "HAVING COUNT(ratings.rating) >= 50\n",
    "ORDER BY avg_rating DESC\n",
    "LIMIT 10;\n",
    "\"\"\"\n",
    "authors_ratings = pd.read_sql(query_authors_ratings, engine)\n",
    "print(\"Autores con más alta calificación promedio (con al menos 50 calificaciones):\")\n",
    "display(authors_ratings)\n",
    "\n",
    "# Gráfico de barras\n",
    "plt.figure(figsize=(12, 6))\n",
    "bar_plot = sns.barplot(x='avg_rating', y='author', data=authors_ratings, palette='viridis')\n",
    "bar_plot.set_title('Calificación Promedio de Autores con al menos 50 Calificaciones', fontsize=16)\n",
    "bar_plot.set_xlabel('Calificación Promedio', fontsize=12)\n",
    "bar_plot.set_ylabel('Autor', fontsize=12)\n",
    "\n",
    "# Mostrar calificaciones promedio en las barras\n",
    "for index, value in enumerate(authors_ratings['avg_rating']):\n",
    "    bar_plot.text(value, index, f'{value:.2f}', color='black', ha=\"right\", va=\"center\")\n",
    "\n",
    "plt.show()"
   ]
  },
  {
   "cell_type": "markdown",
   "id": "be46917d",
   "metadata": {},
   "source": [
    "   - Diana Gabaldon tiene la calificación promedio más alta (4.3) entre los autores que tienen al menos 50 calificaciones, destacándose como una autora favorita entre los lectores.\n",
    "\n",
    "## Número promedio de reseñas de texto entre los usuarios que calificaron más de 50 libros"
   ]
  },
  {
   "cell_type": "code",
   "execution_count": 6,
   "id": "22aa2c3d",
   "metadata": {
    "scrolled": false
   },
   "outputs": [
    {
     "name": "stdout",
     "output_type": "stream",
     "text": [
      "Número promedio de reseñas de texto entre los usuarios que calificaron más de 50 libros:\n",
      "  avg_text_reviews\n",
      "0             None\n"
     ]
    }
   ],
   "source": [
    "# Número promedio de reseñas de texto entre los usuarios que calificaron más de 50 libros\n",
    "query_avg_text_reviews = \"\"\"\n",
    "SELECT \n",
    "    AVG(text_reviews.num_reviews) AS avg_text_reviews\n",
    "FROM (\n",
    "    SELECT \n",
    "        reviews.username, \n",
    "        COUNT(reviews.text) AS num_reviews\n",
    "    FROM reviews\n",
    "    JOIN ratings ON reviews.book_id = ratings.book_id AND reviews.username = ratings.username\n",
    "    GROUP BY reviews.username\n",
    "    HAVING COUNT(ratings.rating) > 50\n",
    ") AS text_reviews;\n",
    "\"\"\"\n",
    "avg_text_reviews = pd.read_sql(query_avg_text_reviews, engine)\n",
    "print(\"Número promedio de reseñas de texto entre los usuarios que calificaron más de 50 libros:\")\n",
    "print(avg_text_reviews)\n"
   ]
  },
  {
   "cell_type": "markdown",
   "id": "0140436c",
   "metadata": {},
   "source": [
    "   - No se encontraron usuarios que hayan calificado más de 50 libros y dejado reseñas de texto, sugiriendo que este comportamiento no es común en la base de datos."
   ]
  },
  {
   "cell_type": "markdown",
   "id": "f29cbcee",
   "metadata": {},
   "source": [
    "## Conclusión General\n",
    "\n",
    "El análisis de los datos del servicio de libros reveló información valiosa sobre la publicación y valoración de libros. Identificamos tendencias en la publicación de libros modernos, la popularidad de ciertos títulos y editoriales, y las calificaciones de autores destacados. Estos hallazgos proporcionan una base sólida para desarrollar una propuesta de valor para un nuevo producto en el mercado de aplicaciones para amantes de los libros.\n",
    "\n",
    "### Recomendaciones\n",
    "\n",
    "1. **Optimizar Estrategias de Marketing**:\n",
    "   - Considerar estrategias de marketing que destaquen libros modernos y populares como \"Twilight\" y \"The Hobbit\" para atraer más usuarios y mantener el interés de los actuales.\n",
    "\n",
    "2. **Fomentar la Publicación de Reseñas de Texto**:\n",
    "   - Implementar incentivos para que los usuarios que califican muchos libros también dejen reseñas de texto, proporcionando así más información útil para otros usuarios.\n",
    "\n",
    "3. **Colaboración con Penguin Books**:\n",
    "   - Establecer colaboraciones o promociones con Penguin Books, dado que es una editorial prominente en la base de datos, para ampliar la oferta de libros populares y de alta calidad.\n",
    "   \n",
    "### Recomendación General\n",
    "\n",
    "Recomendamos enfocar esfuerzos en promover libros modernos y populares, como los identificados en el análisis, y establecer colaboraciones estratégicas con editoriales prominentes como Penguin Books. Además, incentivar a los usuarios a dejar reseñas de texto podría mejorar la calidad de la información disponible para otros usuarios, potenciando la experiencia global en la plataforma."
   ]
  }
 ],
 "metadata": {
  "kernelspec": {
   "display_name": "Python 3 (ipykernel)",
   "language": "python",
   "name": "python3"
  },
  "language_info": {
   "codemirror_mode": {
    "name": "ipython",
    "version": 3
   },
   "file_extension": ".py",
   "mimetype": "text/x-python",
   "name": "python",
   "nbconvert_exporter": "python",
   "pygments_lexer": "ipython3",
   "version": "3.11.7"
  }
 },
 "nbformat": 4,
 "nbformat_minor": 5
}
