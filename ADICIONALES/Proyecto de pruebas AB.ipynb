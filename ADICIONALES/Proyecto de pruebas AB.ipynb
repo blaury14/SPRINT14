{
 "cells": [
  {
   "cell_type": "markdown",
   "metadata": {},
   "source": [
    "# Proyecto de pruebas A/B"
   ]
  },
  {
   "cell_type": "markdown",
   "metadata": {},
   "source": [
    "# Descripción de los objetivos del estudio\n",
    "**Objetivos del estudio:**\n",
    "\n",
    "El objetivo del estudio es evaluar la efectividad de un nuevo sistema de recomendaciones en el embudo de pago mejorado. Se espera que los usuarios del grupo B (nuevo embudo) muestren una mejor conversión en vistas de la página del producto (product_page), instancias de agregar artículos al carrito de compras (product_cart) y compras (purchase) en comparación con el grupo A (control).\n",
    "\n",
    "## Exploración de los datos\n",
    "\n",
    "* **a. ¿Es necesario convertir los tipos?**\n",
    "\n",
    "### Vamos a cargar y revisar inicialmente los Dataset's, si es nesesario convertiremos a datetime:"
   ]
  },
  {
   "cell_type": "code",
   "execution_count": 1,
   "metadata": {},
   "outputs": [
    {
     "name": "stdout",
     "output_type": "stream",
     "text": [
      "<class 'pandas.core.frame.DataFrame'>\n",
      "RangeIndex: 423761 entries, 0 to 423760\n",
      "Data columns (total 4 columns):\n",
      " #   Column      Non-Null Count   Dtype  \n",
      "---  ------      --------------   -----  \n",
      " 0   user_id     423761 non-null  object \n",
      " 1   event_dt    423761 non-null  object \n",
      " 2   event_name  423761 non-null  object \n",
      " 3   details     60314 non-null   float64\n",
      "dtypes: float64(1), object(3)\n",
      "memory usage: 12.9+ MB\n",
      "None\n"
     ]
    },
    {
     "data": {
      "text/html": [
       "<div>\n",
       "<style scoped>\n",
       "    .dataframe tbody tr th:only-of-type {\n",
       "        vertical-align: middle;\n",
       "    }\n",
       "\n",
       "    .dataframe tbody tr th {\n",
       "        vertical-align: top;\n",
       "    }\n",
       "\n",
       "    .dataframe thead th {\n",
       "        text-align: right;\n",
       "    }\n",
       "</style>\n",
       "<table border=\"1\" class=\"dataframe\">\n",
       "  <thead>\n",
       "    <tr style=\"text-align: right;\">\n",
       "      <th></th>\n",
       "      <th>user_id</th>\n",
       "      <th>event_dt</th>\n",
       "      <th>event_name</th>\n",
       "      <th>details</th>\n",
       "    </tr>\n",
       "  </thead>\n",
       "  <tbody>\n",
       "    <tr>\n",
       "      <th>0</th>\n",
       "      <td>E1BDDCE0DAFA2679</td>\n",
       "      <td>2020-12-07 20:22:03</td>\n",
       "      <td>purchase</td>\n",
       "      <td>99.99</td>\n",
       "    </tr>\n",
       "    <tr>\n",
       "      <th>1</th>\n",
       "      <td>7B6452F081F49504</td>\n",
       "      <td>2020-12-07 09:22:53</td>\n",
       "      <td>purchase</td>\n",
       "      <td>9.99</td>\n",
       "    </tr>\n",
       "    <tr>\n",
       "      <th>2</th>\n",
       "      <td>9CD9F34546DF254C</td>\n",
       "      <td>2020-12-07 12:59:29</td>\n",
       "      <td>purchase</td>\n",
       "      <td>4.99</td>\n",
       "    </tr>\n",
       "    <tr>\n",
       "      <th>3</th>\n",
       "      <td>96F27A054B191457</td>\n",
       "      <td>2020-12-07 04:02:40</td>\n",
       "      <td>purchase</td>\n",
       "      <td>4.99</td>\n",
       "    </tr>\n",
       "    <tr>\n",
       "      <th>4</th>\n",
       "      <td>1FD7660FDF94CA1F</td>\n",
       "      <td>2020-12-07 10:15:09</td>\n",
       "      <td>purchase</td>\n",
       "      <td>4.99</td>\n",
       "    </tr>\n",
       "  </tbody>\n",
       "</table>\n",
       "</div>"
      ],
      "text/plain": [
       "            user_id             event_dt event_name  details\n",
       "0  E1BDDCE0DAFA2679  2020-12-07 20:22:03   purchase    99.99\n",
       "1  7B6452F081F49504  2020-12-07 09:22:53   purchase     9.99\n",
       "2  9CD9F34546DF254C  2020-12-07 12:59:29   purchase     4.99\n",
       "3  96F27A054B191457  2020-12-07 04:02:40   purchase     4.99\n",
       "4  1FD7660FDF94CA1F  2020-12-07 10:15:09   purchase     4.99"
      ]
     },
     "metadata": {},
     "output_type": "display_data"
    },
    {
     "name": "stdout",
     "output_type": "stream",
     "text": [
      "<class 'pandas.core.frame.DataFrame'>\n",
      "RangeIndex: 58703 entries, 0 to 58702\n",
      "Data columns (total 4 columns):\n",
      " #   Column      Non-Null Count  Dtype \n",
      "---  ------      --------------  ----- \n",
      " 0   user_id     58703 non-null  object\n",
      " 1   first_date  58703 non-null  object\n",
      " 2   region      58703 non-null  object\n",
      " 3   device      58703 non-null  object\n",
      "dtypes: object(4)\n",
      "memory usage: 1.8+ MB\n",
      "None\n"
     ]
    },
    {
     "data": {
      "text/html": [
       "<div>\n",
       "<style scoped>\n",
       "    .dataframe tbody tr th:only-of-type {\n",
       "        vertical-align: middle;\n",
       "    }\n",
       "\n",
       "    .dataframe tbody tr th {\n",
       "        vertical-align: top;\n",
       "    }\n",
       "\n",
       "    .dataframe thead th {\n",
       "        text-align: right;\n",
       "    }\n",
       "</style>\n",
       "<table border=\"1\" class=\"dataframe\">\n",
       "  <thead>\n",
       "    <tr style=\"text-align: right;\">\n",
       "      <th></th>\n",
       "      <th>user_id</th>\n",
       "      <th>first_date</th>\n",
       "      <th>region</th>\n",
       "      <th>device</th>\n",
       "    </tr>\n",
       "  </thead>\n",
       "  <tbody>\n",
       "    <tr>\n",
       "      <th>0</th>\n",
       "      <td>D72A72121175D8BE</td>\n",
       "      <td>2020-12-07</td>\n",
       "      <td>EU</td>\n",
       "      <td>PC</td>\n",
       "    </tr>\n",
       "    <tr>\n",
       "      <th>1</th>\n",
       "      <td>F1C668619DFE6E65</td>\n",
       "      <td>2020-12-07</td>\n",
       "      <td>N.America</td>\n",
       "      <td>Android</td>\n",
       "    </tr>\n",
       "    <tr>\n",
       "      <th>2</th>\n",
       "      <td>2E1BF1D4C37EA01F</td>\n",
       "      <td>2020-12-07</td>\n",
       "      <td>EU</td>\n",
       "      <td>PC</td>\n",
       "    </tr>\n",
       "    <tr>\n",
       "      <th>3</th>\n",
       "      <td>50734A22C0C63768</td>\n",
       "      <td>2020-12-07</td>\n",
       "      <td>EU</td>\n",
       "      <td>iPhone</td>\n",
       "    </tr>\n",
       "    <tr>\n",
       "      <th>4</th>\n",
       "      <td>E1BDDCE0DAFA2679</td>\n",
       "      <td>2020-12-07</td>\n",
       "      <td>N.America</td>\n",
       "      <td>iPhone</td>\n",
       "    </tr>\n",
       "  </tbody>\n",
       "</table>\n",
       "</div>"
      ],
      "text/plain": [
       "            user_id  first_date     region   device\n",
       "0  D72A72121175D8BE  2020-12-07         EU       PC\n",
       "1  F1C668619DFE6E65  2020-12-07  N.America  Android\n",
       "2  2E1BF1D4C37EA01F  2020-12-07         EU       PC\n",
       "3  50734A22C0C63768  2020-12-07         EU   iPhone\n",
       "4  E1BDDCE0DAFA2679  2020-12-07  N.America   iPhone"
      ]
     },
     "metadata": {},
     "output_type": "display_data"
    },
    {
     "name": "stdout",
     "output_type": "stream",
     "text": [
      "<class 'pandas.core.frame.DataFrame'>\n",
      "RangeIndex: 14525 entries, 0 to 14524\n",
      "Data columns (total 3 columns):\n",
      " #   Column   Non-Null Count  Dtype \n",
      "---  ------   --------------  ----- \n",
      " 0   user_id  14525 non-null  object\n",
      " 1   group    14525 non-null  object\n",
      " 2   ab_test  14525 non-null  object\n",
      "dtypes: object(3)\n",
      "memory usage: 340.6+ KB\n",
      "None\n"
     ]
    },
    {
     "data": {
      "text/html": [
       "<div>\n",
       "<style scoped>\n",
       "    .dataframe tbody tr th:only-of-type {\n",
       "        vertical-align: middle;\n",
       "    }\n",
       "\n",
       "    .dataframe tbody tr th {\n",
       "        vertical-align: top;\n",
       "    }\n",
       "\n",
       "    .dataframe thead th {\n",
       "        text-align: right;\n",
       "    }\n",
       "</style>\n",
       "<table border=\"1\" class=\"dataframe\">\n",
       "  <thead>\n",
       "    <tr style=\"text-align: right;\">\n",
       "      <th></th>\n",
       "      <th>user_id</th>\n",
       "      <th>group</th>\n",
       "      <th>ab_test</th>\n",
       "    </tr>\n",
       "  </thead>\n",
       "  <tbody>\n",
       "    <tr>\n",
       "      <th>0</th>\n",
       "      <td>D1ABA3E2887B6A73</td>\n",
       "      <td>A</td>\n",
       "      <td>recommender_system_test</td>\n",
       "    </tr>\n",
       "    <tr>\n",
       "      <th>1</th>\n",
       "      <td>A7A3664BD6242119</td>\n",
       "      <td>A</td>\n",
       "      <td>recommender_system_test</td>\n",
       "    </tr>\n",
       "    <tr>\n",
       "      <th>2</th>\n",
       "      <td>DABC14FDDFADD29E</td>\n",
       "      <td>A</td>\n",
       "      <td>recommender_system_test</td>\n",
       "    </tr>\n",
       "    <tr>\n",
       "      <th>3</th>\n",
       "      <td>04988C5DF189632E</td>\n",
       "      <td>A</td>\n",
       "      <td>recommender_system_test</td>\n",
       "    </tr>\n",
       "    <tr>\n",
       "      <th>4</th>\n",
       "      <td>4FF2998A348C484F</td>\n",
       "      <td>A</td>\n",
       "      <td>recommender_system_test</td>\n",
       "    </tr>\n",
       "  </tbody>\n",
       "</table>\n",
       "</div>"
      ],
      "text/plain": [
       "            user_id group                  ab_test\n",
       "0  D1ABA3E2887B6A73     A  recommender_system_test\n",
       "1  A7A3664BD6242119     A  recommender_system_test\n",
       "2  DABC14FDDFADD29E     A  recommender_system_test\n",
       "3  04988C5DF189632E     A  recommender_system_test\n",
       "4  4FF2998A348C484F     A  recommender_system_test"
      ]
     },
     "metadata": {},
     "output_type": "display_data"
    },
    {
     "name": "stdout",
     "output_type": "stream",
     "text": [
      "<class 'pandas.core.frame.DataFrame'>\n",
      "RangeIndex: 14 entries, 0 to 13\n",
      "Data columns (total 4 columns):\n",
      " #   Column     Non-Null Count  Dtype \n",
      "---  ------     --------------  ----- \n",
      " 0   name       14 non-null     object\n",
      " 1   regions    14 non-null     object\n",
      " 2   start_dt   14 non-null     object\n",
      " 3   finish_dt  14 non-null     object\n",
      "dtypes: object(4)\n",
      "memory usage: 576.0+ bytes\n",
      "None\n"
     ]
    },
    {
     "data": {
      "text/html": [
       "<div>\n",
       "<style scoped>\n",
       "    .dataframe tbody tr th:only-of-type {\n",
       "        vertical-align: middle;\n",
       "    }\n",
       "\n",
       "    .dataframe tbody tr th {\n",
       "        vertical-align: top;\n",
       "    }\n",
       "\n",
       "    .dataframe thead th {\n",
       "        text-align: right;\n",
       "    }\n",
       "</style>\n",
       "<table border=\"1\" class=\"dataframe\">\n",
       "  <thead>\n",
       "    <tr style=\"text-align: right;\">\n",
       "      <th></th>\n",
       "      <th>name</th>\n",
       "      <th>regions</th>\n",
       "      <th>start_dt</th>\n",
       "      <th>finish_dt</th>\n",
       "    </tr>\n",
       "  </thead>\n",
       "  <tbody>\n",
       "    <tr>\n",
       "      <th>0</th>\n",
       "      <td>Christmas&amp;New Year Promo</td>\n",
       "      <td>EU, N.America</td>\n",
       "      <td>2020-12-25</td>\n",
       "      <td>2021-01-03</td>\n",
       "    </tr>\n",
       "    <tr>\n",
       "      <th>1</th>\n",
       "      <td>St. Valentine's Day Giveaway</td>\n",
       "      <td>EU, CIS, APAC, N.America</td>\n",
       "      <td>2020-02-14</td>\n",
       "      <td>2020-02-16</td>\n",
       "    </tr>\n",
       "    <tr>\n",
       "      <th>2</th>\n",
       "      <td>St. Patric's Day Promo</td>\n",
       "      <td>EU, N.America</td>\n",
       "      <td>2020-03-17</td>\n",
       "      <td>2020-03-19</td>\n",
       "    </tr>\n",
       "    <tr>\n",
       "      <th>3</th>\n",
       "      <td>Easter Promo</td>\n",
       "      <td>EU, CIS, APAC, N.America</td>\n",
       "      <td>2020-04-12</td>\n",
       "      <td>2020-04-19</td>\n",
       "    </tr>\n",
       "    <tr>\n",
       "      <th>4</th>\n",
       "      <td>4th of July Promo</td>\n",
       "      <td>N.America</td>\n",
       "      <td>2020-07-04</td>\n",
       "      <td>2020-07-11</td>\n",
       "    </tr>\n",
       "  </tbody>\n",
       "</table>\n",
       "</div>"
      ],
      "text/plain": [
       "                           name                   regions    start_dt  \\\n",
       "0      Christmas&New Year Promo             EU, N.America  2020-12-25   \n",
       "1  St. Valentine's Day Giveaway  EU, CIS, APAC, N.America  2020-02-14   \n",
       "2        St. Patric's Day Promo             EU, N.America  2020-03-17   \n",
       "3                  Easter Promo  EU, CIS, APAC, N.America  2020-04-12   \n",
       "4             4th of July Promo                 N.America  2020-07-04   \n",
       "\n",
       "    finish_dt  \n",
       "0  2021-01-03  \n",
       "1  2020-02-16  \n",
       "2  2020-03-19  \n",
       "3  2020-04-19  \n",
       "4  2020-07-11  "
      ]
     },
     "metadata": {},
     "output_type": "display_data"
    }
   ],
   "source": [
    "# Importar las librerías necesarias\n",
    "import pandas as pd\n",
    "import matplotlib.pyplot as plt\n",
    "import seaborn as sns\n",
    "from statsmodels.stats.proportion import proportions_ztest\n",
    "\n",
    "# Cargar los datasets\n",
    "ab_events = pd.read_csv('/datasets/final_ab_events_upd_us.csv')\n",
    "ab_new_users = pd.read_csv('/datasets/final_ab_new_users_upd_us.csv')\n",
    "ab_participants = pd.read_csv('/datasets/final_ab_participants_upd_us.csv')\n",
    "ab_marketing_events = pd.read_csv('/datasets/ab_project_marketing_events_us.csv')\n",
    "\n",
    "print(ab_events.info())\n",
    "display(ab_events.head())\n",
    "print(ab_new_users.info())\n",
    "display(ab_new_users.head())\n",
    "print(ab_participants.info())\n",
    "display(ab_participants.head())\n",
    "print(ab_marketing_events.info())\n",
    "display(ab_marketing_events.head())"
   ]
  },
  {
   "cell_type": "code",
   "execution_count": 2,
   "metadata": {},
   "outputs": [
    {
     "name": "stdout",
     "output_type": "stream",
     "text": [
      "<class 'pandas.core.frame.DataFrame'>\n",
      "RangeIndex: 423761 entries, 0 to 423760\n",
      "Data columns (total 4 columns):\n",
      " #   Column      Non-Null Count   Dtype         \n",
      "---  ------      --------------   -----         \n",
      " 0   user_id     423761 non-null  object        \n",
      " 1   event_dt    423761 non-null  datetime64[ns]\n",
      " 2   event_name  423761 non-null  object        \n",
      " 3   details     60314 non-null   float64       \n",
      "dtypes: datetime64[ns](1), float64(1), object(2)\n",
      "memory usage: 12.9+ MB\n",
      "None\n",
      "<class 'pandas.core.frame.DataFrame'>\n",
      "RangeIndex: 58703 entries, 0 to 58702\n",
      "Data columns (total 4 columns):\n",
      " #   Column      Non-Null Count  Dtype         \n",
      "---  ------      --------------  -----         \n",
      " 0   user_id     58703 non-null  object        \n",
      " 1   first_date  58703 non-null  datetime64[ns]\n",
      " 2   region      58703 non-null  object        \n",
      " 3   device      58703 non-null  object        \n",
      "dtypes: datetime64[ns](1), object(3)\n",
      "memory usage: 1.8+ MB\n",
      "None\n",
      "<class 'pandas.core.frame.DataFrame'>\n",
      "RangeIndex: 14525 entries, 0 to 14524\n",
      "Data columns (total 3 columns):\n",
      " #   Column   Non-Null Count  Dtype \n",
      "---  ------   --------------  ----- \n",
      " 0   user_id  14525 non-null  object\n",
      " 1   group    14525 non-null  object\n",
      " 2   ab_test  14525 non-null  object\n",
      "dtypes: object(3)\n",
      "memory usage: 340.6+ KB\n",
      "None\n",
      "<class 'pandas.core.frame.DataFrame'>\n",
      "RangeIndex: 14 entries, 0 to 13\n",
      "Data columns (total 4 columns):\n",
      " #   Column     Non-Null Count  Dtype         \n",
      "---  ------     --------------  -----         \n",
      " 0   name       14 non-null     object        \n",
      " 1   regions    14 non-null     object        \n",
      " 2   start_dt   14 non-null     datetime64[ns]\n",
      " 3   finish_dt  14 non-null     datetime64[ns]\n",
      "dtypes: datetime64[ns](2), object(2)\n",
      "memory usage: 576.0+ bytes\n",
      "None\n"
     ]
    },
    {
     "data": {
      "text/html": [
       "<div>\n",
       "<style scoped>\n",
       "    .dataframe tbody tr th:only-of-type {\n",
       "        vertical-align: middle;\n",
       "    }\n",
       "\n",
       "    .dataframe tbody tr th {\n",
       "        vertical-align: top;\n",
       "    }\n",
       "\n",
       "    .dataframe thead th {\n",
       "        text-align: right;\n",
       "    }\n",
       "</style>\n",
       "<table border=\"1\" class=\"dataframe\">\n",
       "  <thead>\n",
       "    <tr style=\"text-align: right;\">\n",
       "      <th></th>\n",
       "      <th>user_id</th>\n",
       "      <th>event_dt</th>\n",
       "      <th>event_name</th>\n",
       "      <th>details</th>\n",
       "    </tr>\n",
       "  </thead>\n",
       "  <tbody>\n",
       "    <tr>\n",
       "      <th>0</th>\n",
       "      <td>E1BDDCE0DAFA2679</td>\n",
       "      <td>2020-12-07 20:22:03</td>\n",
       "      <td>purchase</td>\n",
       "      <td>99.99</td>\n",
       "    </tr>\n",
       "    <tr>\n",
       "      <th>1</th>\n",
       "      <td>7B6452F081F49504</td>\n",
       "      <td>2020-12-07 09:22:53</td>\n",
       "      <td>purchase</td>\n",
       "      <td>9.99</td>\n",
       "    </tr>\n",
       "    <tr>\n",
       "      <th>2</th>\n",
       "      <td>9CD9F34546DF254C</td>\n",
       "      <td>2020-12-07 12:59:29</td>\n",
       "      <td>purchase</td>\n",
       "      <td>4.99</td>\n",
       "    </tr>\n",
       "    <tr>\n",
       "      <th>3</th>\n",
       "      <td>96F27A054B191457</td>\n",
       "      <td>2020-12-07 04:02:40</td>\n",
       "      <td>purchase</td>\n",
       "      <td>4.99</td>\n",
       "    </tr>\n",
       "    <tr>\n",
       "      <th>4</th>\n",
       "      <td>1FD7660FDF94CA1F</td>\n",
       "      <td>2020-12-07 10:15:09</td>\n",
       "      <td>purchase</td>\n",
       "      <td>4.99</td>\n",
       "    </tr>\n",
       "  </tbody>\n",
       "</table>\n",
       "</div>"
      ],
      "text/plain": [
       "            user_id            event_dt event_name  details\n",
       "0  E1BDDCE0DAFA2679 2020-12-07 20:22:03   purchase    99.99\n",
       "1  7B6452F081F49504 2020-12-07 09:22:53   purchase     9.99\n",
       "2  9CD9F34546DF254C 2020-12-07 12:59:29   purchase     4.99\n",
       "3  96F27A054B191457 2020-12-07 04:02:40   purchase     4.99\n",
       "4  1FD7660FDF94CA1F 2020-12-07 10:15:09   purchase     4.99"
      ]
     },
     "metadata": {},
     "output_type": "display_data"
    },
    {
     "data": {
      "text/html": [
       "<div>\n",
       "<style scoped>\n",
       "    .dataframe tbody tr th:only-of-type {\n",
       "        vertical-align: middle;\n",
       "    }\n",
       "\n",
       "    .dataframe tbody tr th {\n",
       "        vertical-align: top;\n",
       "    }\n",
       "\n",
       "    .dataframe thead th {\n",
       "        text-align: right;\n",
       "    }\n",
       "</style>\n",
       "<table border=\"1\" class=\"dataframe\">\n",
       "  <thead>\n",
       "    <tr style=\"text-align: right;\">\n",
       "      <th></th>\n",
       "      <th>user_id</th>\n",
       "      <th>first_date</th>\n",
       "      <th>region</th>\n",
       "      <th>device</th>\n",
       "    </tr>\n",
       "  </thead>\n",
       "  <tbody>\n",
       "    <tr>\n",
       "      <th>0</th>\n",
       "      <td>D72A72121175D8BE</td>\n",
       "      <td>2020-12-07</td>\n",
       "      <td>EU</td>\n",
       "      <td>PC</td>\n",
       "    </tr>\n",
       "    <tr>\n",
       "      <th>1</th>\n",
       "      <td>F1C668619DFE6E65</td>\n",
       "      <td>2020-12-07</td>\n",
       "      <td>N.America</td>\n",
       "      <td>Android</td>\n",
       "    </tr>\n",
       "    <tr>\n",
       "      <th>2</th>\n",
       "      <td>2E1BF1D4C37EA01F</td>\n",
       "      <td>2020-12-07</td>\n",
       "      <td>EU</td>\n",
       "      <td>PC</td>\n",
       "    </tr>\n",
       "    <tr>\n",
       "      <th>3</th>\n",
       "      <td>50734A22C0C63768</td>\n",
       "      <td>2020-12-07</td>\n",
       "      <td>EU</td>\n",
       "      <td>iPhone</td>\n",
       "    </tr>\n",
       "    <tr>\n",
       "      <th>4</th>\n",
       "      <td>E1BDDCE0DAFA2679</td>\n",
       "      <td>2020-12-07</td>\n",
       "      <td>N.America</td>\n",
       "      <td>iPhone</td>\n",
       "    </tr>\n",
       "  </tbody>\n",
       "</table>\n",
       "</div>"
      ],
      "text/plain": [
       "            user_id first_date     region   device\n",
       "0  D72A72121175D8BE 2020-12-07         EU       PC\n",
       "1  F1C668619DFE6E65 2020-12-07  N.America  Android\n",
       "2  2E1BF1D4C37EA01F 2020-12-07         EU       PC\n",
       "3  50734A22C0C63768 2020-12-07         EU   iPhone\n",
       "4  E1BDDCE0DAFA2679 2020-12-07  N.America   iPhone"
      ]
     },
     "metadata": {},
     "output_type": "display_data"
    },
    {
     "data": {
      "text/html": [
       "<div>\n",
       "<style scoped>\n",
       "    .dataframe tbody tr th:only-of-type {\n",
       "        vertical-align: middle;\n",
       "    }\n",
       "\n",
       "    .dataframe tbody tr th {\n",
       "        vertical-align: top;\n",
       "    }\n",
       "\n",
       "    .dataframe thead th {\n",
       "        text-align: right;\n",
       "    }\n",
       "</style>\n",
       "<table border=\"1\" class=\"dataframe\">\n",
       "  <thead>\n",
       "    <tr style=\"text-align: right;\">\n",
       "      <th></th>\n",
       "      <th>user_id</th>\n",
       "      <th>group</th>\n",
       "      <th>ab_test</th>\n",
       "    </tr>\n",
       "  </thead>\n",
       "  <tbody>\n",
       "    <tr>\n",
       "      <th>0</th>\n",
       "      <td>D1ABA3E2887B6A73</td>\n",
       "      <td>A</td>\n",
       "      <td>recommender_system_test</td>\n",
       "    </tr>\n",
       "    <tr>\n",
       "      <th>1</th>\n",
       "      <td>A7A3664BD6242119</td>\n",
       "      <td>A</td>\n",
       "      <td>recommender_system_test</td>\n",
       "    </tr>\n",
       "    <tr>\n",
       "      <th>2</th>\n",
       "      <td>DABC14FDDFADD29E</td>\n",
       "      <td>A</td>\n",
       "      <td>recommender_system_test</td>\n",
       "    </tr>\n",
       "    <tr>\n",
       "      <th>3</th>\n",
       "      <td>04988C5DF189632E</td>\n",
       "      <td>A</td>\n",
       "      <td>recommender_system_test</td>\n",
       "    </tr>\n",
       "    <tr>\n",
       "      <th>4</th>\n",
       "      <td>4FF2998A348C484F</td>\n",
       "      <td>A</td>\n",
       "      <td>recommender_system_test</td>\n",
       "    </tr>\n",
       "  </tbody>\n",
       "</table>\n",
       "</div>"
      ],
      "text/plain": [
       "            user_id group                  ab_test\n",
       "0  D1ABA3E2887B6A73     A  recommender_system_test\n",
       "1  A7A3664BD6242119     A  recommender_system_test\n",
       "2  DABC14FDDFADD29E     A  recommender_system_test\n",
       "3  04988C5DF189632E     A  recommender_system_test\n",
       "4  4FF2998A348C484F     A  recommender_system_test"
      ]
     },
     "metadata": {},
     "output_type": "display_data"
    },
    {
     "data": {
      "text/html": [
       "<div>\n",
       "<style scoped>\n",
       "    .dataframe tbody tr th:only-of-type {\n",
       "        vertical-align: middle;\n",
       "    }\n",
       "\n",
       "    .dataframe tbody tr th {\n",
       "        vertical-align: top;\n",
       "    }\n",
       "\n",
       "    .dataframe thead th {\n",
       "        text-align: right;\n",
       "    }\n",
       "</style>\n",
       "<table border=\"1\" class=\"dataframe\">\n",
       "  <thead>\n",
       "    <tr style=\"text-align: right;\">\n",
       "      <th></th>\n",
       "      <th>name</th>\n",
       "      <th>regions</th>\n",
       "      <th>start_dt</th>\n",
       "      <th>finish_dt</th>\n",
       "    </tr>\n",
       "  </thead>\n",
       "  <tbody>\n",
       "    <tr>\n",
       "      <th>0</th>\n",
       "      <td>Christmas&amp;New Year Promo</td>\n",
       "      <td>EU, N.America</td>\n",
       "      <td>2020-12-25</td>\n",
       "      <td>2021-01-03</td>\n",
       "    </tr>\n",
       "    <tr>\n",
       "      <th>1</th>\n",
       "      <td>St. Valentine's Day Giveaway</td>\n",
       "      <td>EU, CIS, APAC, N.America</td>\n",
       "      <td>2020-02-14</td>\n",
       "      <td>2020-02-16</td>\n",
       "    </tr>\n",
       "    <tr>\n",
       "      <th>2</th>\n",
       "      <td>St. Patric's Day Promo</td>\n",
       "      <td>EU, N.America</td>\n",
       "      <td>2020-03-17</td>\n",
       "      <td>2020-03-19</td>\n",
       "    </tr>\n",
       "    <tr>\n",
       "      <th>3</th>\n",
       "      <td>Easter Promo</td>\n",
       "      <td>EU, CIS, APAC, N.America</td>\n",
       "      <td>2020-04-12</td>\n",
       "      <td>2020-04-19</td>\n",
       "    </tr>\n",
       "    <tr>\n",
       "      <th>4</th>\n",
       "      <td>4th of July Promo</td>\n",
       "      <td>N.America</td>\n",
       "      <td>2020-07-04</td>\n",
       "      <td>2020-07-11</td>\n",
       "    </tr>\n",
       "  </tbody>\n",
       "</table>\n",
       "</div>"
      ],
      "text/plain": [
       "                           name                   regions   start_dt  \\\n",
       "0      Christmas&New Year Promo             EU, N.America 2020-12-25   \n",
       "1  St. Valentine's Day Giveaway  EU, CIS, APAC, N.America 2020-02-14   \n",
       "2        St. Patric's Day Promo             EU, N.America 2020-03-17   \n",
       "3                  Easter Promo  EU, CIS, APAC, N.America 2020-04-12   \n",
       "4             4th of July Promo                 N.America 2020-07-04   \n",
       "\n",
       "   finish_dt  \n",
       "0 2021-01-03  \n",
       "1 2020-02-16  \n",
       "2 2020-03-19  \n",
       "3 2020-04-19  \n",
       "4 2020-07-11  "
      ]
     },
     "metadata": {},
     "output_type": "display_data"
    }
   ],
   "source": [
    "# Convertir las fechas a tipo datetime\n",
    "ab_events['event_dt'] = pd.to_datetime(ab_events['event_dt'])\n",
    "ab_new_users['first_date'] = pd.to_datetime(ab_new_users['first_date'])\n",
    "ab_marketing_events['start_dt'] = pd.to_datetime(ab_marketing_events['start_dt'])\n",
    "ab_marketing_events['finish_dt'] = pd.to_datetime(ab_marketing_events['finish_dt'])\n",
    "\n",
    "# Revisar las estructuras\n",
    "print(ab_events.info())\n",
    "print(ab_new_users.info())\n",
    "print(ab_participants.info())\n",
    "print(ab_marketing_events.info())\n",
    "\n",
    "# Mostrar las primeras filas de cada dataset\n",
    "display(ab_events.head())\n",
    "display(ab_new_users.head())\n",
    "display(ab_participants.head())\n",
    "display(ab_marketing_events.head())"
   ]
  },
  {
   "cell_type": "markdown",
   "metadata": {},
   "source": [
    "* **b. ¿Hay valores ausentes o duplicados? Si es así, ¿cómo los caracterizarías?**\n",
    "\n",
    "Vamos a verificar la presencia de valores ausentes y duplicados."
   ]
  },
  {
   "cell_type": "code",
   "execution_count": 3,
   "metadata": {},
   "outputs": [
    {
     "name": "stdout",
     "output_type": "stream",
     "text": [
      "ab_events\n",
      "user_id            0\n",
      "event_dt           0\n",
      "event_name         0\n",
      "details       363447\n",
      "dtype: int64\n",
      "\n",
      "ab_new_users\n",
      "user_id       0\n",
      "first_date    0\n",
      "region        0\n",
      "device        0\n",
      "dtype: int64\n",
      "\n",
      "ab_participants\n",
      "user_id    0\n",
      "group      0\n",
      "ab_test    0\n",
      "dtype: int64\n",
      "\n",
      "marketing_events\n",
      "name         0\n",
      "regions      0\n",
      "start_dt     0\n",
      "finish_dt    0\n",
      "dtype: int64\n",
      "ab_events: 0\n",
      "ab_new_users: 0\n",
      "ab_participants 0\n",
      "ab_marketing_events 0\n"
     ]
    }
   ],
   "source": [
    "# Verificar valores nulos\n",
    "print('ab_events')\n",
    "print(ab_events.isnull().sum())\n",
    "print('\\nab_new_users')\n",
    "print(ab_new_users.isnull().sum())\n",
    "print('\\nab_participants')\n",
    "print(ab_participants.isnull().sum())\n",
    "print('\\nmarketing_events')\n",
    "print(ab_marketing_events.isnull().sum())\n",
    "\n",
    "# Verificar duplicados\n",
    "print('ab_events:', ab_events.duplicated().sum())\n",
    "print('ab_new_users:', ab_new_users.duplicated().sum())\n",
    "print('ab_participants', ab_participants.duplicated().sum())\n",
    "print('ab_marketing_events', ab_marketing_events.duplicated().sum())\n"
   ]
  },
  {
   "cell_type": "markdown",
   "metadata": {},
   "source": [
    "**Los valores ausentes se caracterizan de la siguiente manera:**\n",
    "\n",
    "* En ab_events, la columna details tiene **363,447 valores nulos.**\n",
    "* En los otros datasets no hay valores nulos.\n",
    "\n",
    "## Análisis exploratorio de datos\n",
    "Vamos a continuar con el análisis exploratorio de datos.\n",
    "\n",
    "* **Conversión en las diferentes etapas del embudo**\n",
    "\n",
    "Primero, asegurémonos de unir correctamente los datos de los participantes con los eventos."
   ]
  },
  {
   "cell_type": "code",
   "execution_count": 4,
   "metadata": {},
   "outputs": [
    {
     "data": {
      "text/html": [
       "<div>\n",
       "<style scoped>\n",
       "    .dataframe tbody tr th:only-of-type {\n",
       "        vertical-align: middle;\n",
       "    }\n",
       "\n",
       "    .dataframe tbody tr th {\n",
       "        vertical-align: top;\n",
       "    }\n",
       "\n",
       "    .dataframe thead th {\n",
       "        text-align: right;\n",
       "    }\n",
       "</style>\n",
       "<table border=\"1\" class=\"dataframe\">\n",
       "  <thead>\n",
       "    <tr style=\"text-align: right;\">\n",
       "      <th>event_name</th>\n",
       "      <th>group</th>\n",
       "      <th>login</th>\n",
       "      <th>product_cart</th>\n",
       "      <th>product_page</th>\n",
       "      <th>purchase</th>\n",
       "    </tr>\n",
       "  </thead>\n",
       "  <tbody>\n",
       "    <tr>\n",
       "      <th>0</th>\n",
       "      <td>A</td>\n",
       "      <td>0.432570</td>\n",
       "      <td>0.136666</td>\n",
       "      <td>0.283945</td>\n",
       "      <td>0.146819</td>\n",
       "    </tr>\n",
       "    <tr>\n",
       "      <th>1</th>\n",
       "      <td>B</td>\n",
       "      <td>0.437564</td>\n",
       "      <td>0.142637</td>\n",
       "      <td>0.278522</td>\n",
       "      <td>0.141278</td>\n",
       "    </tr>\n",
       "  </tbody>\n",
       "</table>\n",
       "</div>"
      ],
      "text/plain": [
       "event_name group     login  product_cart  product_page  purchase\n",
       "0              A  0.432570      0.136666      0.283945  0.146819\n",
       "1              B  0.437564      0.142637      0.278522  0.141278"
      ]
     },
     "metadata": {},
     "output_type": "display_data"
    }
   ],
   "source": [
    "# Unir datasets para análisis\n",
    "merged_data = pd.merge(ab_events, ab_participants, on='user_id', how='left')\n",
    "\n",
    "# Calcular la tasa de conversión en cada etapa del embudo\n",
    "conversion_rates = merged_data.groupby(['group', 'event_name']).size().unstack().apply(lambda x: x / x.sum(), axis=1).reset_index()\n",
    "display(conversion_rates)"
   ]
  },
  {
   "cell_type": "code",
   "execution_count": 5,
   "metadata": {},
   "outputs": [
    {
     "data": {
      "image/png": "[encoded data removed]",
      "text/plain": [
       "<Figure size 1200x600 with 1 Axes>"
      ]
     },
     "metadata": {},
     "output_type": "display_data"
    }
   ],
   "source": [
    "# Transformar conversion_rates para el gráfico\n",
    "conversion_rates = conversion_rates.melt(id_vars='group', var_name='Etapa', value_name='Tasa de Conversión')\n",
    "\n",
    "# Crear el gráfico de barras\n",
    "plt.figure(figsize=(12, 6))\n",
    "bar_plot = sns.barplot(x='Etapa', y='Tasa de Conversión', hue='group', data=conversion_rates)\n",
    "bar_plot.set_title('Tasas de Conversión por Etapa del Embudo', fontsize=16)\n",
    "bar_plot.set_xlabel('Etapa del Embudo', fontsize=12)\n",
    "bar_plot.set_ylabel('Tasa de Conversión', fontsize=12)\n",
    "bar_plot.legend(title='Grupo')\n",
    "plt.show()"
   ]
  },
  {
   "cell_type": "markdown",
   "metadata": {},
   "source": [
    "* Este análisis muestra que las tasas de conversión son ligeramente mayores para el grupo B en las primeras etapas del embudo, pero disminuyen en la etapa de compra."
   ]
  },
  {
   "cell_type": "markdown",
   "metadata": {},
   "source": [
    "* **Distribución de eventos por usuario**"
   ]
  },
  {
   "cell_type": "code",
   "execution_count": 6,
   "metadata": {},
   "outputs": [
    {
     "data": {
      "text/html": [
       "<div>\n",
       "<style scoped>\n",
       "    .dataframe tbody tr th:only-of-type {\n",
       "        vertical-align: middle;\n",
       "    }\n",
       "\n",
       "    .dataframe tbody tr th {\n",
       "        vertical-align: top;\n",
       "    }\n",
       "\n",
       "    .dataframe thead th {\n",
       "        text-align: right;\n",
       "    }\n",
       "</style>\n",
       "<table border=\"1\" class=\"dataframe\">\n",
       "  <thead>\n",
       "    <tr style=\"text-align: right;\">\n",
       "      <th>group</th>\n",
       "      <th>A</th>\n",
       "      <th>B</th>\n",
       "    </tr>\n",
       "  </thead>\n",
       "  <tbody>\n",
       "    <tr>\n",
       "      <th>count</th>\n",
       "      <td>7874.000000</td>\n",
       "      <td>6205.000000</td>\n",
       "    </tr>\n",
       "    <tr>\n",
       "      <th>mean</th>\n",
       "      <td>7.455550</td>\n",
       "      <td>7.112490</td>\n",
       "    </tr>\n",
       "    <tr>\n",
       "      <th>std</th>\n",
       "      <td>4.475159</td>\n",
       "      <td>4.246201</td>\n",
       "    </tr>\n",
       "    <tr>\n",
       "      <th>min</th>\n",
       "      <td>1.000000</td>\n",
       "      <td>1.000000</td>\n",
       "    </tr>\n",
       "    <tr>\n",
       "      <th>25%</th>\n",
       "      <td>4.000000</td>\n",
       "      <td>4.000000</td>\n",
       "    </tr>\n",
       "    <tr>\n",
       "      <th>50%</th>\n",
       "      <td>6.000000</td>\n",
       "      <td>6.000000</td>\n",
       "    </tr>\n",
       "    <tr>\n",
       "      <th>75%</th>\n",
       "      <td>9.000000</td>\n",
       "      <td>9.000000</td>\n",
       "    </tr>\n",
       "    <tr>\n",
       "      <th>max</th>\n",
       "      <td>40.000000</td>\n",
       "      <td>36.000000</td>\n",
       "    </tr>\n",
       "  </tbody>\n",
       "</table>\n",
       "</div>"
      ],
      "text/plain": [
       "group            A            B\n",
       "count  7874.000000  6205.000000\n",
       "mean      7.455550     7.112490\n",
       "std       4.475159     4.246201\n",
       "min       1.000000     1.000000\n",
       "25%       4.000000     4.000000\n",
       "50%       6.000000     6.000000\n",
       "75%       9.000000     9.000000\n",
       "max      40.000000    36.000000"
      ]
     },
     "metadata": {},
     "output_type": "display_data"
    }
   ],
   "source": [
    "event_distribution_per_user = merged_data.groupby(['user_id', 'group']).size().unstack()\n",
    "display(event_distribution_per_user.describe())\n"
   ]
  },
  {
   "cell_type": "markdown",
   "metadata": {},
   "source": [
    "* La distribución de eventos por usuario muestra que el `grupo A` tiene un promedio de eventos `ligeramente mayor` que el grupo B, pero ambas distribuciones tienen una `variabilidad significativa.`"
   ]
  },
  {
   "cell_type": "markdown",
   "metadata": {},
   "source": [
    "* **Verificación de usuarios en ambas muestras**"
   ]
  },
  {
   "cell_type": "code",
   "execution_count": 7,
   "metadata": {},
   "outputs": [
    {
     "data": {
      "text/plain": [
       "2B8FD20CA8A2A616    40\n",
       "6B1D0D8C4F8FBBEC    40\n",
       "0082295A41A867B5    40\n",
       "84DC74ED5E60BA6A    40\n",
       "18569C8DCB0771B6    40\n",
       "                    ..\n",
       "DE322E59B51C730B     2\n",
       "B303BA37BCD58E15     2\n",
       "B8E84DFBBEF7F5E7     2\n",
       "4573E7921D2547EA     2\n",
       "C6F0D1ABCF686171     2\n",
       "Name: user_id, Length: 57957, dtype: int64"
      ]
     },
     "metadata": {},
     "output_type": "display_data"
    }
   ],
   "source": [
    "# Verificar si hay usuarios en ambos grupos\n",
    "duplicated_users = merged_data[merged_data.duplicated('user_id', keep=False)]\n",
    "display(duplicated_users['user_id'].value_counts())\n"
   ]
  },
  {
   "cell_type": "markdown",
   "metadata": {},
   "source": [
    "* Hay `57957 usuarios` que están presentes en `ambas muestras`, lo que indica una posible duplicidad que necesita ser gestionada para asegurar la integridad del análisis."
   ]
  },
  {
   "cell_type": "markdown",
   "metadata": {},
   "source": [
    "* **Distribución diaria de eventos**"
   ]
  },
  {
   "cell_type": "code",
   "execution_count": 8,
   "metadata": {},
   "outputs": [
    {
     "data": {
      "text/plain": [
       "event_dt\n",
       "2020-12-07    11570\n",
       "2020-12-08    12690\n",
       "2020-12-09    12299\n",
       "2020-12-10    14229\n",
       "2020-12-11    14002\n",
       "2020-12-12    17756\n",
       "2020-12-13    21121\n",
       "2020-12-14    26499\n",
       "2020-12-15    23777\n",
       "2020-12-16    21262\n",
       "2020-12-17    22163\n",
       "2020-12-18    23266\n",
       "2020-12-19    24675\n",
       "2020-12-20    26831\n",
       "2020-12-21    33113\n",
       "2020-12-22    29803\n",
       "2020-12-23    26392\n",
       "2020-12-24    19656\n",
       "2020-12-26    14260\n",
       "2020-12-27    12568\n",
       "2020-12-28    11193\n",
       "2020-12-29    10260\n",
       "2020-12-30       91\n",
       "dtype: int64"
      ]
     },
     "metadata": {},
     "output_type": "display_data"
    }
   ],
   "source": [
    "daily_event_distribution = merged_data.groupby(merged_data['event_dt'].dt.date).size()\n",
    "display(daily_event_distribution)"
   ]
  },
  {
   "cell_type": "markdown",
   "metadata": {},
   "source": [
    "* **Distribución diaria de eventos:** El número de eventos varía significativamente a lo largo del período de prueba, con picos evidentes alrededor del `21 de diciembre.` Esta variabilidad puede estar relacionada con `campañas de marketing o comportamientos estacionales.`"
   ]
  },
  {
   "cell_type": "code",
   "execution_count": 9,
   "metadata": {},
   "outputs": [
    {
     "data": {
      "image/png": "[encoded data removed]",
      "text/plain": [
       "<Figure size 1200x600 with 1 Axes>"
      ]
     },
     "metadata": {},
     "output_type": "display_data"
    }
   ],
   "source": [
    "# Crear un gráfico de líneas para la distribución diaria de eventos\n",
    "daily_event_distribution.plot(kind='line', figsize=(12, 6), marker='o')\n",
    "plt.title('Distribución Diaria de Eventos', fontsize=16)\n",
    "plt.xlabel('Fecha', fontsize=12)\n",
    "plt.ylabel('Número de Eventos', fontsize=12)\n",
    "plt.grid(True)\n",
    "plt.show()"
   ]
  },
  {
   "cell_type": "markdown",
   "metadata": {},
   "source": [
    "* **Distribución Diaria de Eventos:**\n",
    "El gráfico presenta la distribución diaria de eventos durante el período de la prueba, del `7 de diciembre de 2020 al 29 de diciembre de 2020`. Se observa un incremento en los eventos hasta el `21 de diciembre`, con un `pico justo antes de Navidad. `Después, los eventos `disminuyen significativamente,` probablemente debido a las festividades y el cierre del período de prueba.\n",
    "\n",
    "### Evaluar los Resultados de la Prueba A/B\n",
    "* **a. Evaluar los resultados de la prueba A/B:**\n",
    "\n",
    "Vamos a utilizar una prueba z para comprobar la diferencia estadística entre las proporciones de conversión en las etapas críticas del embudo `(product_page, product_cart, purchase)` entre los grupos A y B."
   ]
  },
  {
   "cell_type": "code",
   "execution_count": 10,
   "metadata": {},
   "outputs": [
    {
     "name": "stdout",
     "output_type": "stream",
     "text": [
      "P-valor para purchase: 0.012349423295385884\n",
      "P-valor para product_page: 0.05563983678259238\n",
      "P-valor para product_cart: 0.006190644578238213\n"
     ]
    }
   ],
   "source": [
    "# Contar eventos de 'purchase' por grupo\n",
    "purchase_counts = merged_data[merged_data['event_name'] == 'purchase'].groupby('group').size()\n",
    "total_counts = merged_data.groupby('group').size()\n",
    "\n",
    "# Prueba z para la etapa 'purchase'\n",
    "stat_purchase, pval_purchase = proportions_ztest(purchase_counts, total_counts)\n",
    "\n",
    "# Contar eventos de 'product_page' por grupo\n",
    "page_counts = merged_data[merged_data['event_name'] == 'product_page'].groupby('group').size()\n",
    "\n",
    "# Prueba z para la etapa 'product_page'\n",
    "stat_page, pval_page = proportions_ztest(page_counts, total_counts)\n",
    "\n",
    "# Contar eventos de 'product_cart' por grupo\n",
    "cart_counts = merged_data[merged_data['event_name'] == 'product_cart'].groupby('group').size()\n",
    "\n",
    "# Prueba z para la etapa 'product_cart'\n",
    "stat_cart, pval_cart = proportions_ztest(cart_counts, total_counts)\n",
    "\n",
    "print(f'P-valor para purchase: {pval_purchase}')\n",
    "print(f'P-valor para product_page: {pval_page}')\n",
    "print(f'P-valor para product_cart: {pval_cart}')"
   ]
  },
  {
   "cell_type": "markdown",
   "metadata": {},
   "source": [
    "### Evaluación de los Resultados de la Prueba A/B\n",
    "\n",
    "Los resultados de la prueba A/B son los siguientes:\n",
    "\n",
    "- **P-valor para purchase:** 0.0123\n",
    "- **P-valor para product_page:** 0.0556\n",
    "- **P-valor para product_cart:** 0.0062\n",
    "\n",
    "#### Interpretación de los Resultados\n",
    "\n",
    "**Purchase (Compra):**\n",
    "   - El p-valor es `0.0123,` que es menor al umbral común de `0.05.`\n",
    "   - Esto indica que hay una `diferencia estadísticamente significativa` en la `tasa de conversión de compras` entre los grupos A y B.\n",
    "\n",
    "**Product Page (Página de Producto):**\n",
    "   - El p-valor es `0.0556`, que es ligeramente superior al umbral común de `0.05.`\n",
    "   - Esto sugiere que la diferencia en la `tasa de conversión` de vistas de página de producto `no es` estadísticamente significativa, `aunque está muy cerca del umbral.`\n",
    "\n",
    "**Product Cart (Carrito de Compras):**\n",
    "   - El p-valor es `0.0062,` que es menor al umbral común de `0.05.`\n",
    "   - Esto indica que `hay una diferencia estadísticamente significativ`a en la `tasa de conversión` de agregar productos al carrito entre los grupos A y B.\n",
    "\n",
    "### Conclusiones\n",
    "\n",
    "- **Conversión en Compra:** La introducción del `nuevo sistema de recomendaciones` ha mostrado una `mejora significativa` en la conversión de compras, sugiriendo que este `sistema es efectivo en esta etapa del embudo.`\n",
    "- **Conversión en Página de Producto:** La diferencia `no es estadísticamente significativa,` pero está cerca del umbral, lo que indica que podría haber algún efecto `positivo que no es suficientemente fuerte` para ser concluyente en esta muestra.\n",
    "- **Conversión en Carrito de Compras:** Hay una `mejora significativa en la tasa de conversión` de agregar productos al carrito, lo que sugiere que el `nuevo sistema de recomendaciones` ayuda a los usuarios a `agregar más productos a sus carritos.`\n",
    "\n",
    "### Recomendaciones\n",
    "\n",
    "- **Continuar con la Implementación:** `Mantener la implementación del nuevo sistema de recomendaciones`, ya que muestra mejoras `significativas en las conversiones críticas.`\n",
    "- **Realizar Pruebas Adicionales:** Llevar a cabo pruebas `adicionales para confirmar los hallazgos` y explorar si hay otros factores que pueden estar `influyendo en los resultados.`\n",
    "- **Analizar la Etapa de la Página de Producto:** Considerar un análisis más `detallado` de la etapa de la página de producto para `identificar posibles mejoras y entender mejor el comportamiento del usuario en esta fase.`"
   ]
  }
 ],
 "metadata": {
  "ExecuteTimeLog": [
   {
    "duration": 1697,
    "start_time": "2024-07-07T21:52:02.609Z"
   },
   {
    "duration": 737,
    "start_time": "2024-07-07T21:52:31.562Z"
   },
   {
    "duration": 393,
    "start_time": "2024-07-07T21:53:50.393Z"
   },
   {
    "duration": 730,
    "start_time": "2024-07-07T21:55:57.211Z"
   },
   {
    "duration": 135,
    "start_time": "2024-07-07T21:57:02.530Z"
   },
   {
    "duration": 245,
    "start_time": "2024-07-07T21:57:10.794Z"
   },
   {
    "duration": 28,
    "start_time": "2024-07-07T21:58:49.109Z"
   },
   {
    "duration": 336,
    "start_time": "2024-07-07T21:59:56.372Z"
   },
   {
    "duration": 53,
    "start_time": "2024-07-07T22:00:23.566Z"
   },
   {
    "duration": 739,
    "start_time": "2024-07-07T22:06:18.470Z"
   },
   {
    "duration": 272,
    "start_time": "2024-07-07T22:07:03.067Z"
   },
   {
    "duration": 1158,
    "start_time": "2024-07-07T22:07:15.459Z"
   },
   {
    "duration": 326,
    "start_time": "2024-07-07T22:07:16.621Z"
   },
   {
    "duration": 251,
    "start_time": "2024-07-07T22:08:44.995Z"
   },
   {
    "duration": 256,
    "start_time": "2024-07-07T22:08:53.059Z"
   },
   {
    "duration": 127,
    "start_time": "2024-07-07T22:09:25.662Z"
   },
   {
    "duration": 85,
    "start_time": "2024-07-07T22:09:35.471Z"
   },
   {
    "duration": 216,
    "start_time": "2024-07-07T22:10:00.171Z"
   },
   {
    "duration": 258,
    "start_time": "2024-07-07T22:10:22.081Z"
   },
   {
    "duration": 279,
    "start_time": "2024-07-07T22:10:36.072Z"
   },
   {
    "duration": 196,
    "start_time": "2024-07-07T22:10:58.127Z"
   },
   {
    "duration": 653,
    "start_time": "2024-07-07T22:15:12.651Z"
   },
   {
    "duration": 4832,
    "start_time": "2024-07-07T22:18:19.967Z"
   },
   {
    "duration": 427,
    "start_time": "2024-07-07T22:18:50.332Z"
   },
   {
    "duration": 1952,
    "start_time": "2024-07-07T22:18:59.254Z"
   },
   {
    "duration": 312,
    "start_time": "2024-07-07T22:19:01.209Z"
   },
   {
    "duration": 279,
    "start_time": "2024-07-07T22:19:01.524Z"
   },
   {
    "duration": 106,
    "start_time": "2024-07-07T22:19:01.806Z"
   },
   {
    "duration": 506,
    "start_time": "2024-07-07T22:19:01.916Z"
   },
   {
    "duration": 0,
    "start_time": "2024-07-07T22:19:02.430Z"
   },
   {
    "duration": 0,
    "start_time": "2024-07-07T22:19:02.433Z"
   },
   {
    "duration": 0,
    "start_time": "2024-07-07T22:19:02.435Z"
   },
   {
    "duration": 0,
    "start_time": "2024-07-07T22:19:02.436Z"
   },
   {
    "duration": 29,
    "start_time": "2024-07-07T22:19:18.016Z"
   },
   {
    "duration": 331,
    "start_time": "2024-07-07T22:20:16.141Z"
   },
   {
    "duration": 239,
    "start_time": "2024-07-07T22:20:39.325Z"
   },
   {
    "duration": 269,
    "start_time": "2024-07-07T22:20:42.309Z"
   },
   {
    "duration": 196,
    "start_time": "2024-07-07T22:20:45.513Z"
   },
   {
    "duration": 385,
    "start_time": "2024-07-07T22:20:52.129Z"
   },
   {
    "duration": 1964,
    "start_time": "2024-07-07T22:24:56.478Z"
   },
   {
    "duration": 324,
    "start_time": "2024-07-07T22:24:58.446Z"
   },
   {
    "duration": 276,
    "start_time": "2024-07-07T22:24:58.774Z"
   },
   {
    "duration": 104,
    "start_time": "2024-07-07T22:24:59.054Z"
   },
   {
    "duration": 340,
    "start_time": "2024-07-07T22:24:59.161Z"
   },
   {
    "duration": 231,
    "start_time": "2024-07-07T22:24:59.504Z"
   },
   {
    "duration": 261,
    "start_time": "2024-07-07T22:24:59.737Z"
   },
   {
    "duration": 206,
    "start_time": "2024-07-07T22:25:00.001Z"
   },
   {
    "duration": 409,
    "start_time": "2024-07-07T22:25:00.209Z"
   },
   {
    "duration": 273,
    "start_time": "2024-07-07T22:25:00.622Z"
   },
   {
    "duration": 649,
    "start_time": "2024-07-07T22:26:19.960Z"
   },
   {
    "duration": 753,
    "start_time": "2024-07-07T22:27:24.814Z"
   },
   {
    "duration": 2027,
    "start_time": "2024-07-07T22:27:36.072Z"
   },
   {
    "duration": 156,
    "start_time": "2024-07-07T22:27:38.103Z"
   },
   {
    "duration": 312,
    "start_time": "2024-07-07T22:27:38.261Z"
   },
   {
    "duration": 278,
    "start_time": "2024-07-07T22:27:38.576Z"
   },
   {
    "duration": 103,
    "start_time": "2024-07-07T22:27:38.858Z"
   },
   {
    "duration": 329,
    "start_time": "2024-07-07T22:27:38.964Z"
   },
   {
    "duration": 232,
    "start_time": "2024-07-07T22:27:39.296Z"
   },
   {
    "duration": 265,
    "start_time": "2024-07-07T22:27:39.531Z"
   },
   {
    "duration": 215,
    "start_time": "2024-07-07T22:27:39.799Z"
   },
   {
    "duration": 413,
    "start_time": "2024-07-07T22:27:40.017Z"
   },
   {
    "duration": 266,
    "start_time": "2024-07-07T22:27:40.433Z"
   },
   {
    "duration": 251,
    "start_time": "2024-07-07T22:31:08.547Z"
   },
   {
    "duration": 200,
    "start_time": "2024-07-07T22:31:51.287Z"
   },
   {
    "duration": 1993,
    "start_time": "2024-07-07T22:35:53.806Z"
   },
   {
    "duration": 165,
    "start_time": "2024-07-07T22:35:55.804Z"
   },
   {
    "duration": 304,
    "start_time": "2024-07-07T22:35:55.972Z"
   },
   {
    "duration": 285,
    "start_time": "2024-07-07T22:35:56.279Z"
   },
   {
    "duration": 104,
    "start_time": "2024-07-07T22:35:56.569Z"
   },
   {
    "duration": 326,
    "start_time": "2024-07-07T22:35:56.676Z"
   },
   {
    "duration": 227,
    "start_time": "2024-07-07T22:35:57.005Z"
   },
   {
    "duration": 260,
    "start_time": "2024-07-07T22:35:57.235Z"
   },
   {
    "duration": 232,
    "start_time": "2024-07-07T22:35:57.498Z"
   },
   {
    "duration": 378,
    "start_time": "2024-07-07T22:35:57.734Z"
   },
   {
    "duration": 265,
    "start_time": "2024-07-07T22:35:58.116Z"
   },
   {
    "duration": 718,
    "start_time": "2024-07-07T22:37:48.330Z"
   },
   {
    "duration": 1946,
    "start_time": "2024-07-07T22:39:37.167Z"
   },
   {
    "duration": 617,
    "start_time": "2024-07-07T22:39:42.238Z"
   },
   {
    "duration": 718,
    "start_time": "2024-07-07T22:40:28.976Z"
   },
   {
    "duration": 254,
    "start_time": "2024-07-07T22:40:32.905Z"
   },
   {
    "duration": 285,
    "start_time": "2024-07-07T22:41:03.639Z"
   },
   {
    "duration": 8,
    "start_time": "2024-07-07T22:42:47.134Z"
   },
   {
    "duration": 279,
    "start_time": "2024-07-07T22:43:03.511Z"
   },
   {
    "duration": 281,
    "start_time": "2024-07-07T22:44:25.344Z"
   },
   {
    "duration": 277,
    "start_time": "2024-07-07T22:44:46.520Z"
   },
   {
    "duration": 474,
    "start_time": "2024-07-07T22:45:09.018Z"
   },
   {
    "duration": 238,
    "start_time": "2024-07-07T22:45:19.320Z"
   },
   {
    "duration": 298,
    "start_time": "2024-07-07T22:46:21.919Z"
   },
   {
    "duration": 203,
    "start_time": "2024-07-07T22:47:06.846Z"
   },
   {
    "duration": 278,
    "start_time": "2024-07-07T22:54:38.884Z"
   },
   {
    "duration": 293,
    "start_time": "2024-07-07T22:56:08.226Z"
   },
   {
    "duration": 358,
    "start_time": "2024-07-07T22:56:23.258Z"
   },
   {
    "duration": 2417,
    "start_time": "2024-07-07T22:56:39.180Z"
   },
   {
    "duration": 0,
    "start_time": "2024-07-07T22:56:41.602Z"
   },
   {
    "duration": 0,
    "start_time": "2024-07-07T22:56:41.605Z"
   },
   {
    "duration": 0,
    "start_time": "2024-07-07T22:56:41.607Z"
   },
   {
    "duration": 0,
    "start_time": "2024-07-07T22:56:41.609Z"
   },
   {
    "duration": 0,
    "start_time": "2024-07-07T22:56:41.611Z"
   },
   {
    "duration": 0,
    "start_time": "2024-07-07T22:56:41.631Z"
   },
   {
    "duration": 0,
    "start_time": "2024-07-07T22:56:41.633Z"
   },
   {
    "duration": 0,
    "start_time": "2024-07-07T22:56:41.635Z"
   },
   {
    "duration": 0,
    "start_time": "2024-07-07T22:56:41.637Z"
   },
   {
    "duration": 1995,
    "start_time": "2024-07-07T22:57:23.921Z"
   },
   {
    "duration": 619,
    "start_time": "2024-07-07T22:57:25.932Z"
   },
   {
    "duration": 0,
    "start_time": "2024-07-07T22:57:26.554Z"
   },
   {
    "duration": 0,
    "start_time": "2024-07-07T22:57:26.555Z"
   },
   {
    "duration": 0,
    "start_time": "2024-07-07T22:57:26.557Z"
   },
   {
    "duration": 0,
    "start_time": "2024-07-07T22:57:26.559Z"
   },
   {
    "duration": 0,
    "start_time": "2024-07-07T22:57:26.562Z"
   },
   {
    "duration": 0,
    "start_time": "2024-07-07T22:57:26.564Z"
   },
   {
    "duration": 0,
    "start_time": "2024-07-07T22:57:26.566Z"
   },
   {
    "duration": 0,
    "start_time": "2024-07-07T22:57:26.568Z"
   },
   {
    "duration": 56,
    "start_time": "2024-07-07T22:57:43.994Z"
   },
   {
    "duration": 55,
    "start_time": "2024-07-07T22:57:58.427Z"
   },
   {
    "duration": 136,
    "start_time": "2024-07-07T22:58:07.661Z"
   },
   {
    "duration": 286,
    "start_time": "2024-07-07T22:58:29.215Z"
   },
   {
    "duration": 282,
    "start_time": "2024-07-07T22:58:43.823Z"
   },
   {
    "duration": 361,
    "start_time": "2024-07-07T22:58:46.891Z"
   },
   {
    "duration": 2015,
    "start_time": "2024-07-07T22:59:35.468Z"
   },
   {
    "duration": 269,
    "start_time": "2024-07-07T22:59:37.488Z"
   },
   {
    "duration": 313,
    "start_time": "2024-07-07T22:59:37.760Z"
   },
   {
    "duration": 295,
    "start_time": "2024-07-07T22:59:38.075Z"
   },
   {
    "duration": 384,
    "start_time": "2024-07-07T22:59:38.374Z"
   },
   {
    "duration": 234,
    "start_time": "2024-07-07T22:59:38.761Z"
   },
   {
    "duration": 278,
    "start_time": "2024-07-07T22:59:38.998Z"
   },
   {
    "duration": 206,
    "start_time": "2024-07-07T22:59:39.279Z"
   },
   {
    "duration": 496,
    "start_time": "2024-07-07T22:59:39.489Z"
   },
   {
    "duration": 0,
    "start_time": "2024-07-07T22:59:39.988Z"
   },
   {
    "duration": 270,
    "start_time": "2024-07-07T23:00:18.819Z"
   },
   {
    "duration": 347,
    "start_time": "2024-07-07T23:01:05.186Z"
   },
   {
    "duration": 2012,
    "start_time": "2024-07-07T23:01:15.725Z"
   },
   {
    "duration": 273,
    "start_time": "2024-07-07T23:01:17.741Z"
   },
   {
    "duration": 293,
    "start_time": "2024-07-07T23:01:18.032Z"
   },
   {
    "duration": 285,
    "start_time": "2024-07-07T23:01:18.332Z"
   },
   {
    "duration": 378,
    "start_time": "2024-07-07T23:01:18.620Z"
   },
   {
    "duration": 238,
    "start_time": "2024-07-07T23:01:19.004Z"
   },
   {
    "duration": 278,
    "start_time": "2024-07-07T23:01:19.246Z"
   },
   {
    "duration": 211,
    "start_time": "2024-07-07T23:01:19.526Z"
   },
   {
    "duration": 277,
    "start_time": "2024-07-07T23:01:19.743Z"
   },
   {
    "duration": 517,
    "start_time": "2024-07-07T23:01:20.033Z"
   },
   {
    "duration": 719,
    "start_time": "2024-07-07T23:01:41.293Z"
   },
   {
    "duration": 348,
    "start_time": "2024-07-07T23:02:06.889Z"
   },
   {
    "duration": 34,
    "start_time": "2024-07-07T23:02:34.101Z"
   },
   {
    "duration": 289,
    "start_time": "2024-07-07T23:02:59.083Z"
   },
   {
    "duration": 372,
    "start_time": "2024-07-07T23:03:24.573Z"
   },
   {
    "duration": 168,
    "start_time": "2024-07-07T23:05:08.073Z"
   },
   {
    "duration": 1753,
    "start_time": "2024-07-07T23:05:25.684Z"
   },
   {
    "duration": 240,
    "start_time": "2024-07-07T23:05:48.244Z"
   },
   {
    "duration": 246,
    "start_time": "2024-07-07T23:06:06.957Z"
   },
   {
    "duration": 276,
    "start_time": "2024-07-07T23:06:09.746Z"
   },
   {
    "duration": 230,
    "start_time": "2024-07-07T23:08:42.777Z"
   },
   {
    "duration": 2324,
    "start_time": "2024-07-09T21:55:04.722Z"
   },
   {
    "duration": 315,
    "start_time": "2024-07-09T21:55:07.050Z"
   },
   {
    "duration": 384,
    "start_time": "2024-07-09T21:55:07.368Z"
   },
   {
    "duration": 324,
    "start_time": "2024-07-09T21:55:07.755Z"
   },
   {
    "duration": 361,
    "start_time": "2024-07-09T21:55:08.084Z"
   },
   {
    "duration": 261,
    "start_time": "2024-07-09T21:55:08.448Z"
   },
   {
    "duration": 307,
    "start_time": "2024-07-09T21:55:08.713Z"
   },
   {
    "duration": 222,
    "start_time": "2024-07-09T21:55:09.023Z"
   },
   {
    "duration": 339,
    "start_time": "2024-07-09T21:55:09.248Z"
   },
   {
    "duration": 183,
    "start_time": "2024-07-09T21:55:09.590Z"
   }
  ],
  "kernelspec": {
   "display_name": "Python 3 (ipykernel)",
   "language": "python",
   "name": "python3"
  },
  "language_info": {
   "codemirror_mode": {
    "name": "ipython",
    "version": 3
   },
   "file_extension": ".py",
   "mimetype": "text/x-python",
   "name": "python",
   "nbconvert_exporter": "python",
   "pygments_lexer": "ipython3",
   "version": "3.9.19"
  },
  "toc": {
   "base_numbering": 1,
   "nav_menu": {},
   "number_sections": true,
   "sideBar": true,
   "skip_h1_title": true,
   "title_cell": "Table of Contents",
   "title_sidebar": "Contents",
   "toc_cell": false,
   "toc_position": {},
   "toc_section_display": true,
   "toc_window_display": false
  }
 },
 "nbformat": 4,
 "nbformat_minor": 2
}
